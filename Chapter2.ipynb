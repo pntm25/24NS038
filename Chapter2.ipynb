{
 "cells": [
  {
   "cell_type": "code",
   "execution_count": null,
   "id": "35935ade-a37e-4128-8499-a9f262699fb4",
   "metadata": {},
   "outputs": [
    {
     "data": {
      "text/plain": [
       "'\\nBài 1. Viết chương trình nhập vào một chuỗi\\nXuất ra màn hình chuỗi ký tự hoa\\nXuất ra màn hình chuỗi ký tự có ký tự đầu là ký tự hoa\\nXuất ra màn hình chuỗi ký tự thường\\n'"
      ]
     },
     "execution_count": 1,
     "metadata": {},
     "output_type": "execute_result"
    }
   ],
   "source": [
    "\"\"\"\n",
    "Bài 1. Viết chương trình nhập vào một chuỗi\n",
    "Xuất ra màn hình chuỗi ký tự hoa\n",
    "Xuất ra màn hình chuỗi ký tự có ký tự đầu là ký tự hoa\n",
    "Xuất ra màn hình chuỗi ký tự thường\n",
    "\"\"\"\n"
   ]
  },
  {
   "cell_type": "code",
   "execution_count": 2,
   "id": "9d2f01df-e2a9-4b2c-8cc6-fc4b9af2cdce",
   "metadata": {},
   "outputs": [
    {
     "name": "stdout",
     "output_type": "stream",
     "text": [
      "Enter your string: LAn\n"
     ]
    },
    {
     "name": "stdout",
     "output_type": "stream",
     "text": [
      "A Upper String is: LAN\n",
      "A Lower String is : lan\n",
      "A Title String is : Lan\n"
     ]
    }
   ],
   "source": [
    "st = input(\"Enter your string:\")\n",
    "st_upper = st.upper()\n",
    "st_lower = st.lower()\n",
    "st_title = st.title()\n",
    "\n",
    "print(\"A Upper String is: \" + st_upper)\n",
    "print(\"A Lower String is : \" + st_lower)\n",
    "print(\"A Title String is : \" + st_title)"
   ]
  },
  {
   "cell_type": "code",
   "execution_count": 5,
   "id": "98e97b62-9325-4274-80fe-98c384875cbc",
   "metadata": {},
   "outputs": [
    {
     "data": {
      "text/plain": [
       "'\\nBài 2. Cho chuỗi biểu diễn địa chỉ email:   \" minhnhutvh@gmail.com\" \\nRút trích và hiển thị chuỗi \"gmail.com\" (Đây chính là  tên Host)\\n'"
      ]
     },
     "execution_count": 5,
     "metadata": {},
     "output_type": "execute_result"
    }
   ],
   "source": [
    "'''\n",
    "Bài 2. Cho chuỗi biểu diễn địa chỉ email:   \" minhnhutvh@gmail.com\" \n",
    "Rút trích và hiển thị chuỗi \"gmail.com\" (Đây chính là  tên Host)\n",
    "'''"
   ]
  },
  {
   "cell_type": "code",
   "execution_count": 3,
   "id": "2208cd36-d314-4927-9fb5-55bc689b501e",
   "metadata": {},
   "outputs": [
    {
     "name": "stdout",
     "output_type": "stream",
     "text": [
      "gmail.com\n"
     ]
    }
   ],
   "source": [
    "data = \"minhnhutvh@gmail.com\"\n",
    "position = data.find(\"@\")               \n",
    "host = data[position +1 :]\n",
    "print(host)\n"
   ]
  },
  {
   "cell_type": "code",
   "execution_count": 4,
   "id": "2411f1dd-bada-4dc7-90be-d5b14be8685d",
   "metadata": {},
   "outputs": [
    {
     "data": {
      "text/plain": [
       "'\\nBài 3. Cho chuỗi biểu diễn:  \\n        ‘minhnhutvh@gmai.com Sat Jan 5 09:14:16’\\nRút trích và hiển thị chuỗi “gmail.com”\\n'"
      ]
     },
     "execution_count": 4,
     "metadata": {},
     "output_type": "execute_result"
    }
   ],
   "source": [
    "'''\n",
    "Bài 3. Cho chuỗi biểu diễn:  \n",
    "        ‘minhnhutvh@gmai.com Sat Jan 5 09:14:16’\n",
    "Rút trích và hiển thị chuỗi “gmail.com”\n",
    "'''"
   ]
  },
  {
   "cell_type": "code",
   "execution_count": 7,
   "id": "c60f43e5-e0ba-4f2f-be62-a3df3ed218a8",
   "metadata": {},
   "outputs": [
    {
     "name": "stdout",
     "output_type": "stream",
     "text": [
      "gmail.com\n"
     ]
    }
   ],
   "source": [
    "data = \"minhnhutvh@gmail.com Sat Jan 5 09:14:16\"\n",
    "Start_position = data.find(\"@\")                #  10\n",
    "End_position = data.find(\" \", Start_position)  #  26\n",
    "host = data[Start_position +1 : End_position]\n",
    "print(host)\n"
   ]
  },
  {
   "cell_type": "code",
   "execution_count": 8,
   "id": "4a1b2728-50bc-488b-9e8d-db3b27daf173",
   "metadata": {},
   "outputs": [
    {
     "data": {
      "text/plain": [
       "' Những bài thực hành còn lại. Sinh viên tự làm'"
      ]
     },
     "execution_count": 8,
     "metadata": {},
     "output_type": "execute_result"
    }
   ],
   "source": [
    "''' Bài 4: Viết một chương trình thay thế một từ trong chuỗi. \n",
    "Yêu cầu: \n",
    "Nhập vào một chuỗi \n",
    "Nhập vào một từ cần thay thế và một từ thay thế. \n",
    "Sau đó, hiển thị kết quả ra màn hình.\n",
    "'''"
   ]
  },
  {
   "cell_type": "code",
   "execution_count": 6,
   "id": "d7e501cf-58a4-4d4d-bc28-6c8d4b93ce7a",
   "metadata": {},
   "outputs": [
    {
     "name": "stdout",
     "output_type": "stream",
     "text": [
      "Nhap chuoi:  Runninh\n",
      "Nhap tu can thay the:  h\n",
      "Nhap tu thay the:  g\n"
     ]
    },
    {
     "name": "stdout",
     "output_type": "stream",
     "text": [
      "Running\n"
     ]
    }
   ],
   "source": [
    "st1 = input (\"Nhap chuoi: \")\n",
    "st2 = input (\"Nhap tu can thay the: \")\n",
    "st3 = input (\"Nhap tu thay the: \")\n",
    "st1=st1.replace(st2,st3)\n",
    "print (st1)"
   ]
  },
  {
   "cell_type": "code",
   "execution_count": null,
   "id": "38a9dce1-6da4-41d3-a5bb-348463822521",
   "metadata": {},
   "outputs": [],
   "source": [
    "''' Bài 5: Viết một chương trình nhập vào 1 chuỗi. Sau đó, xuất ra màn hình: \n",
    "5 ký tự cuối cùng; 5 ký tự đầu tiên. \n",
    "4 chuỗi trên một dòng cách 1 khoảng trắng.\n",
    "4 chuỗi trên 4 dòng.\n",
    "'''"
   ]
  },
  {
   "cell_type": "code",
   "execution_count": 9,
   "id": "364cf7c9-ff97-4b2c-97b5-987950bb07d3",
   "metadata": {},
   "outputs": [
    {
     "name": "stdout",
     "output_type": "stream",
     "text": [
      "Nhap chuoi:  Hello World\n"
     ]
    },
    {
     "name": "stdout",
     "output_type": "stream",
     "text": [
      "5 ky tu cuoi cung la: World\n",
      "5 ky tu dau tien la: Hello\n",
      "4 chuoi tren 1 dong cach 1 khoang trang la: Hello World Hello World Hello World Hello World \n",
      "4 chuoi tren 4 dong la: Hello World\n",
      "Hello World\n",
      "Hello World\n",
      "Hello World\n",
      "\n"
     ]
    }
   ],
   "source": [
    "st = input(\"Nhap chuoi: \")\n",
    "cuoi_5 = st[len(st)-5:]\n",
    "dau_5 = st [:5]\n",
    "bon_kytu_1_dong = 4 * (st + \" \")\n",
    "bon_kytu_4_dong = 4* (st + \"\\n\")\n",
    "print(\"5 ky tu cuoi cung la: \" + cuoi_5)\n",
    "print(\"5 ky tu dau tien la: \" + dau_5)\n",
    "print (\"4 chuoi tren 1 dong cach 1 khoang trang la: \" + bon_kytu_1_dong)\n",
    "print(\"4 chuoi tren 4 dong la: \" + bon_kytu_4_dong)\n"
   ]
  },
  {
   "cell_type": "code",
   "execution_count": null,
   "id": "8adc718f-71ca-4b75-9151-79290b64f4fe",
   "metadata": {},
   "outputs": [],
   "source": [
    "''' Bài 6: Viết chương trình tính thể tích hình trụ V = πr2h với r \n",
    "là bán kính của mặt đáy, h là chiều cao của hình trụ, và π là hằng số pi. \n",
    "Với r và h nhập vào từ bàn phím.\n",
    "'''"
   ]
  },
  {
   "cell_type": "code",
   "execution_count": 11,
   "id": "f0ff8c3c-8297-480b-b114-8966f88809b5",
   "metadata": {},
   "outputs": [
    {
     "name": "stdout",
     "output_type": "stream",
     "text": [
      "Nhap ban kinh:  3.2\n",
      "Nhap chieu cao:  5\n"
     ]
    },
    {
     "name": "stdout",
     "output_type": "stream",
     "text": [
      "100.53096491487338\n"
     ]
    }
   ],
   "source": [
    "from math import *\n",
    "r = float(input(\"Nhap ban kinh: \"))\n",
    "h = float(input(\"Nhap chieu cao: \"))\n",
    "S = pi*r*2*h\n",
    "print (S)"
   ]
  },
  {
   "cell_type": "code",
   "execution_count": null,
   "id": "f51e30e8-3b48-4567-a9cc-2a8d0a092039",
   "metadata": {},
   "outputs": [],
   "source": [
    "''' Bài 7: Viết chương trình tính diện tích tam giác theo công thức. \n",
    "Yêu cầu nhập vào 3 cạnh và các góc A,B và C (radian)\n",
    "'''"
   ]
  },
  {
   "cell_type": "code",
   "execution_count": 17,
   "id": "ffc473ec-6cae-4000-b1df-afa5eb92c2c7",
   "metadata": {},
   "outputs": [
    {
     "name": "stdout",
     "output_type": "stream",
     "text": [
      "Nhap canh x: 2\n",
      "Nhap canh y: 2\n",
      "Nhap canh z: 2\n",
      "Nhap goc A(do): 60\n",
      "Nhap goc B(do): 60\n",
      "Nhap goc C(do): 60\n"
     ]
    },
    {
     "name": "stdout",
     "output_type": "stream",
     "text": [
      "1.7320508075688772\n"
     ]
    }
   ],
   "source": [
    "from math import *\n",
    "x = float(input(\"Nhap canh x:\"))\n",
    "y = float(input(\"Nhap canh y:\"))\n",
    "z = float(input(\"Nhap canh z:\"))\n",
    "A = float(input(\"Nhap goc A(do):\"))\n",
    "B = float(input(\"Nhap goc B(do):\"))\n",
    "C = float(input(\"Nhap goc C(do):\"))\n",
    "gocA=A*pi/180\n",
    "gocB=B*pi/180\n",
    "gocC=C*pi/180\n",
    "s = 0.5*x*y*sin(gocC)\n",
    "print (s)"
   ]
  },
  {
   "cell_type": "code",
   "execution_count": null,
   "id": "2a8e295d-4b61-4af3-b988-ad7b1b2adc8a",
   "metadata": {},
   "outputs": [],
   "source": [
    "''' Bài 8: Viết chương trình tính diện tích tam giác đều theo định lý Heron. \n",
    "Yêu cầu nhập vào cạnh tam giác đều.\n",
    "'''"
   ]
  },
  {
   "cell_type": "code",
   "execution_count": 14,
   "id": "c0409fdb-014b-4c6f-afe5-dfb377a1fd90",
   "metadata": {},
   "outputs": [
    {
     "name": "stdout",
     "output_type": "stream",
     "text": [
      "Nhap canh cua tam giac deu:  2\n"
     ]
    },
    {
     "name": "stdout",
     "output_type": "stream",
     "text": [
      "1.7320508075688772\n"
     ]
    }
   ],
   "source": [
    "from math import *\n",
    "a = float(input(\"Nhap canh cua tam giac deu: \"))\n",
    "s = a**2*(sqrt(3)/4)\n",
    "print(s)"
   ]
  },
  {
   "cell_type": "code",
   "execution_count": null,
   "id": "766f5587-30fb-4039-a6f3-88aa2386b71b",
   "metadata": {},
   "outputs": [],
   "source": [
    "''' Bài 9: : Chạy chương trình Bài 7, nhập giá trị cho trường hợp tam giác đều \n",
    "(lưu ý: giá trị cạnh tam giác = giá trị cạnh tam giác Bài 8). \n",
    "Đánh giá kết quả khi chạy chương trình Bài 7 và Bài 8\n",
    "'''"
   ]
  },
  {
   "cell_type": "code",
   "execution_count": null,
   "id": "ffbd343b-a296-48f2-bf92-5eb6b5a9a428",
   "metadata": {},
   "outputs": [],
   "source": [
    "Kết quả 2 bài bằng nhau"
   ]
  },
  {
   "cell_type": "code",
   "execution_count": null,
   "id": "06c5ce2d-2280-40af-86c8-3383cc289e13",
   "metadata": {},
   "outputs": [],
   "source": [
    "'''Bài 10: Viết chương trình yêu cầu người dùng nhập chiều rộng và chiều dài của một căn phòng. \n",
    "Chiều dài và chiều rộng sẽ hiển thị kiểu số dấu phẩy động. \n",
    "Hiển thị diện tích căn phòng. \n",
    "'''"
   ]
  },
  {
   "cell_type": "code",
   "execution_count": 21,
   "id": "184c3c42-a4a9-42bc-b3d1-4f7c225f735e",
   "metadata": {},
   "outputs": [
    {
     "name": "stdout",
     "output_type": "stream",
     "text": [
      "nhap chieu dai:  2.5\n",
      "nhap chieu rong:  1.0\n"
     ]
    },
    {
     "name": "stdout",
     "output_type": "stream",
     "text": [
      "2.5\n"
     ]
    }
   ],
   "source": [
    "x = float(input(\"nhap chieu dai: \"))\n",
    "y = float(input(\"nhap chieu rong: \"))\n",
    "s = x*y\n",
    "print (s)"
   ]
  },
  {
   "cell_type": "code",
   "execution_count": null,
   "id": "57d3a082-4f7b-4ebd-b2c7-d41982a6f71d",
   "metadata": {},
   "outputs": [],
   "source": [
    "'''Bài 11: Viết chương trình đọc chiều dài và chiều rộng của một cánh đồng từ người dùng.\n",
    "Hiển thị diện tích của cánh đồng theo theo đơn vị tính là Mẫu Anh. \n",
    "Gợi ý: Một Mẫu Anh bằng 43.560 met vuông.\n",
    "'''"
   ]
  },
  {
   "cell_type": "code",
   "execution_count": 24,
   "id": "c4e35706-1209-4e97-b7d7-9e16ac44afff",
   "metadata": {},
   "outputs": [
    {
     "name": "stdout",
     "output_type": "stream",
     "text": [
      "nhap chieu dai:  3.0\n",
      "nhap chieu rong:  1.0\n"
     ]
    },
    {
     "name": "stdout",
     "output_type": "stream",
     "text": [
      "130.68\n"
     ]
    }
   ],
   "source": [
    "mau_anh=43.560\n",
    "x = float(input(\"nhap chieu dai: \"))\n",
    "y = float(input(\"nhap chieu rong: \"))\n",
    "s_m2 = x*y\n",
    "s_mau_anh=s_m2*mau_anh\n",
    "print (s_mau_anh)"
   ]
  },
  {
   "cell_type": "code",
   "execution_count": null,
   "id": "7f7221fe-e4d2-42c9-9692-6232a0300f74",
   "metadata": {},
   "outputs": [],
   "source": [
    "'''Bài 12: Viết chương trình nhập chi phí của một bữa ăn tại nhà hàng từ người dùng. Chương trình sẽ tính thuế và tiền boa cho bữa ăn. \n",
    "Trong đó, tiền boa là 18% số tiền bữa ăn (không có thuế); tiền thuế là 5% số tiền bữa ăn.\n",
    "Đầu ra của chương trình là tổng tiền, gồm: thuế, số tiền boa và tiền bữa ăn. \n",
    "Định dạng đầu ra sao cho tất cả các giá trị được hiển thị bằng hai con số thập phân\n",
    "'''"
   ]
  },
  {
   "cell_type": "code",
   "execution_count": 3,
   "id": "51f13fc7-6f18-4656-965d-cfb95081b8eb",
   "metadata": {},
   "outputs": [
    {
     "name": "stdout",
     "output_type": "stream",
     "text": [
      "Nhap chi phi cua bua an:  25000\n"
     ]
    },
    {
     "name": "stdout",
     "output_type": "stream",
     "text": [
      "25000.0\n",
      "4500.0\n",
      "1250.0\n",
      "30750.0\n"
     ]
    }
   ],
   "source": [
    "tien_an = float(input(\"Nhap chi phi cua bua an: \"))\n",
    "tboa = tien_an * 0.18\n",
    "tthue = tien_an * 0.05\n",
    "tong_tien  = tien_an + tboa + tthue\n",
    "print(round(tien_an, 2))\n",
    "print(round(tboa, 2))\n",
    "print(round(tthue, 2))\n",
    "print(round(tong_tien , 2))"
   ]
  },
  {
   "cell_type": "code",
   "execution_count": null,
   "id": "ee2439e5-1441-44c2-89c9-229dc775c353",
   "metadata": {},
   "outputs": [],
   "source": [
    "'''Bài 13: Viết chương trình đọc một số nguyên dương n từ người dùng và sau đó hiển thị tổng của tất cả các số nguyên từ 1 đến n.\n",
    "Tổng của n số nguyên dương đầu tiên có thể được tính bằng công thức:\n",
    "'''"
   ]
  },
  {
   "cell_type": "code",
   "execution_count": 4,
   "id": "a8ca5f92-0468-4c01-8bc6-0e8e7f090009",
   "metadata": {},
   "outputs": [
    {
     "name": "stdout",
     "output_type": "stream",
     "text": [
      "Nhap so nguyen duong n:  2\n"
     ]
    },
    {
     "name": "stdout",
     "output_type": "stream",
     "text": [
      "3.0\n"
     ]
    }
   ],
   "source": [
    "n = int(input(\"Nhap so nguyen duong n: \"))\n",
    "s = n * (n + 1) / 2\n",
    "print(s)"
   ]
  },
  {
   "cell_type": "code",
   "execution_count": null,
   "id": "5193efe3-8e6d-4307-a67e-f2193d4f4be4",
   "metadata": {},
   "outputs": [],
   "source": [
    "'''Bài 14: Viết một chương trình đọc hai số nguyên a và b từ người dùng. Chương trình sẽ tính toán và hiển thị:\n",
    "Tổng của a và b\n",
    "Hiệu của a và b\n",
    "Tích của a và b\n",
    "Thương của a chia cho b\n",
    "Phần còn lại khi a được chia cho b\n",
    "Kết quả của 〖𝑙𝑜𝑔〗_10 𝑎\n",
    "Kết quả của ab\n",
    "'''"
   ]
  },
  {
   "cell_type": "code",
   "execution_count": 5,
   "id": "c0cd5c81-7681-4ad2-a3a8-5cbb84d2e608",
   "metadata": {},
   "outputs": [
    {
     "name": "stdout",
     "output_type": "stream",
     "text": [
      "Nhap so nguyen a:  4\n",
      "Nhap so nguyen b:  6\n"
     ]
    },
    {
     "name": "stdout",
     "output_type": "stream",
     "text": [
      "10\n",
      "-2\n",
      "24\n",
      "0.6666666666666666\n",
      "4\n",
      "0.6020599913279624\n",
      "4096\n"
     ]
    }
   ],
   "source": [
    "from math import *\n",
    "a = int(input(\"Nhap so nguyen a: \"))\n",
    "b = int(input(\"Nhap so nguyen b: \"))\n",
    "print(a + b)\n",
    "print(a - b)\n",
    "print(a * b)\n",
    "print(a / b)\n",
    "print(a % b)\n",
    "print(log10(a))\n",
    "print(a ** b)"
   ]
  },
  {
   "cell_type": "code",
   "execution_count": null,
   "id": "341a95aa-82e2-412c-9924-63d5a59d0d4e",
   "metadata": {},
   "outputs": [],
   "source": [
    "'''Bài 15: Năng lượng Q cần để thay đổi ΔT nhiệt độ (xét trường hợp ΔT > 0) của M gram nước  được tính bằng:\n",
    "Q = M × C × ΔT, trong đó ΔT có đơn vị là độ (độ Celsius), M có đơn vị gram và Q có đơn vị là Joules.  \n",
    "Viết chương trình theo yêu cầu:\n",
    "Đọc khối lượng của nước và sự thay đổi ΔT nhiệt độ từ người dùng. Chương trình sẽ hiển thị tổng năng lượng của nước khi thay đổi nhiệt độ mong muốn. \n",
    "Gợi ý: Nhiệt dung riêng của nước là 4.186 J/g◦C.\n",
    "Tính toán chi phí khi thay đổi ΔT nhiệt độ của nước, biết rằng: chi phí là 8,9 cent mỗi kilowatt giờ, 1 Joules = 2.777e-7 kWh.  \n",
    "Hãy tính chi phí để nước đạt nhiệt độ như yêu cầu.\n",
    "'''"
   ]
  },
  {
   "cell_type": "code",
   "execution_count": 18,
   "id": "adc39bb8-6098-4b0f-a765-da1c8127de5f",
   "metadata": {},
   "outputs": [
    {
     "name": "stdout",
     "output_type": "stream",
     "text": [
      "Nhap khoi luong nuoc(gram):  500\n",
      "Nhap delta T:  50\n"
     ]
    },
    {
     "name": "stdout",
     "output_type": "stream",
     "text": [
      " Nang luong can thiet:  104650.0\n",
      "Chi phi de nuoc dat nhiet do nhu yeu cau:  0.26\n"
     ]
    }
   ],
   "source": [
    "M = float(input(\"Nhap khoi luong nuoc(gram): \"))\n",
    "dT = float(input(\"Nhap delta T: \"))\n",
    "C = 4.186\n",
    "Q = M * C * dT\n",
    "print(\" Nang luong can thiet: \", round(Q,2))\n",
    "kWh = Q * 2.777e-7\n",
    "chi_phi = kWh * 8.9\n",
    "print(\"Chi phi de nuoc dat nhiet do nhu yeu cau: \", round(chi_phi,2))"
   ]
  },
  {
   "cell_type": "code",
   "execution_count": 16,
   "id": "a77df054-d67c-4661-b2d6-61e9f7fdb5e8",
   "metadata": {},
   "outputs": [
    {
     "data": {
      "text/plain": [
       "'Bài 16: Viết một chương trình xác định tốc độ di chuyển của một vật khi nó chạm đất. Người dùng sẽ nhập chiều cao mà từ đó vật đó được thả (đơn vị tính mét (m)).\\nGợi ý: Sử dụng công thức 𝒗_𝒇  =√(𝒗_𝒊^𝟐  + 𝟐𝐚𝐝)  để tính tốc độ cuối cùng, 𝒗_𝒊  tốc độ ban đầu, a là gia tốc trọng trường, và d là độ cao. \\nTốc độ ban đầu của một vật là 0 m/s,  gia tốc trọng trường là 9,8 m/s2.\\n'"
      ]
     },
     "execution_count": 16,
     "metadata": {},
     "output_type": "execute_result"
    }
   ],
   "source": [
    "'''Bài 16: Viết một chương trình xác định tốc độ di chuyển của một vật khi nó chạm đất. Người dùng sẽ nhập chiều cao mà từ đó vật đó được thả (đơn vị tính mét (m)).\n",
    "Gợi ý: Sử dụng công thức 𝒗_𝒇  =√(𝒗_𝒊^𝟐  + 𝟐𝐚𝐝)  để tính tốc độ cuối cùng, 𝒗_𝒊  tốc độ ban đầu, a là gia tốc trọng trường, và d là độ cao. \n",
    "Tốc độ ban đầu của một vật là 0 m/s,  gia tốc trọng trường là 9,8 m/s2.\n",
    "'''"
   ]
  },
  {
   "cell_type": "code",
   "execution_count": 9,
   "id": "934f3a1c-630f-45dc-b13c-4db70132af5f",
   "metadata": {},
   "outputs": [
    {
     "name": "stdout",
     "output_type": "stream",
     "text": [
      "Nhap do cao(m):  2\n"
     ]
    },
    {
     "name": "stdout",
     "output_type": "stream",
     "text": [
      "6.26\n"
     ]
    }
   ],
   "source": [
    "from math import *\n",
    "d = float(input(\"Nhap do cao(m): \"))\n",
    "a = 9.8\n",
    "v_i = 0\n",
    "v_f = sqrt(v_i**2 + 2*a*d)\n",
    "print(round(v_f,2))"
   ]
  },
  {
   "cell_type": "code",
   "execution_count": 7,
   "id": "c17593fa-cc5d-40e4-aa2a-bd45f3c93803",
   "metadata": {},
   "outputs": [
    {
     "data": {
      "text/plain": [
       "'Bài 17: Khi gió thổi trong thời tiết lạnh, làm cho không khí lạnh hơn so với thực tế.\\nNguyên nhân là do sự chuyển động của không khí làm tăng tốc độ làm mát cho các vật thể (chẳng hạn, như con người).\\nNăm 2001, Canada, Vương quốc Anh và Hoa Kỳ đã áp dụng công thức sau đây để tính toán chỉ số gió lạnh:\\nWCI = 13,12 + 0,6215Ta - 11,37V0.16 + 0,3965Ta V0.16\\nTrong công thức Ta là nhiệt độ không khí tính bằng độ C và V là tốc độ gió tính bằng km/giờ.\\nViết chương trình đọc nhiệt độ không khí và tốc độ gió từ người dùng. Hiển thị chỉ số gió lạnh được làm tròn đến số nguyên gần nhất.\\n'"
      ]
     },
     "execution_count": 7,
     "metadata": {},
     "output_type": "execute_result"
    }
   ],
   "source": [
    "'''Bài 17: Khi gió thổi trong thời tiết lạnh, làm cho không khí lạnh hơn so với thực tế.\n",
    "Nguyên nhân là do sự chuyển động của không khí làm tăng tốc độ làm mát cho các vật thể (chẳng hạn, như con người).\n",
    "Năm 2001, Canada, Vương quốc Anh và Hoa Kỳ đã áp dụng công thức sau đây để tính toán chỉ số gió lạnh:\n",
    "WCI = 13,12 + 0,6215Ta - 11,37V0.16 + 0,3965Ta V0.16\n",
    "Trong công thức Ta là nhiệt độ không khí tính bằng độ C và V là tốc độ gió tính bằng km/giờ.\n",
    "Viết chương trình đọc nhiệt độ không khí và tốc độ gió từ người dùng. Hiển thị chỉ số gió lạnh được làm tròn đến số nguyên gần nhất.\n",
    "'''"
   ]
  },
  {
   "cell_type": "code",
   "execution_count": 8,
   "id": "15069f40-57ba-4db2-a5b1-cbe78224af0f",
   "metadata": {},
   "outputs": [
    {
     "name": "stdout",
     "output_type": "stream",
     "text": [
      "Nhap nhiet do khong khi (°C):  30\n",
      "Nhap toc do gio (km/h):  25\n"
     ]
    },
    {
     "name": "stdout",
     "output_type": "stream",
     "text": [
      "33\n"
     ]
    }
   ],
   "source": [
    "Ta = float(input(\"Nhap nhiet do khong khi (°C): \"))\n",
    "V = float(input(\"Nhap toc do gio (km/h): \"))\n",
    "WCI = 13.12 + 0.6215*Ta - 11.37*(V**0.16) + 0.3965*Ta*(V**0.16)\n",
    "print(round(WCI))"
   ]
  },
  {
   "cell_type": "code",
   "execution_count": null,
   "id": "5be47e68-ce46-4d0d-844e-d9b252cebf7d",
   "metadata": {},
   "outputs": [],
   "source": []
  }
 ],
 "metadata": {
  "kernelspec": {
   "display_name": "Python [conda env:base] *",
   "language": "python",
   "name": "conda-base-py"
  },
  "language_info": {
   "codemirror_mode": {
    "name": "ipython",
    "version": 3
   },
   "file_extension": ".py",
   "mimetype": "text/x-python",
   "name": "python",
   "nbconvert_exporter": "python",
   "pygments_lexer": "ipython3",
   "version": "3.13.5"
  }
 },
 "nbformat": 4,
 "nbformat_minor": 5
}
