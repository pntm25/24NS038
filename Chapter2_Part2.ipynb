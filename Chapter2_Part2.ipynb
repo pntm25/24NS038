{
 "cells": [
  {
   "cell_type": "code",
   "execution_count": null,
   "id": "5f858f36-24d4-4f5d-bbb0-cefe8b43400b",
   "metadata": {},
   "outputs": [],
   "source": [
    "'''Bài 1. Viết một chương trình nhập vào một số nguyên dương. \n",
    "Nếu nó là số chẵn thì in ra chuỗi “Đây là số chẵn”, \n",
    "ngược lại thì in ra chuỗi “Đây là số lẻ”:'''"
   ]
  },
  {
   "cell_type": "code",
   "execution_count": 1,
   "id": "5ee764c1-1fef-48ed-8bf8-1c6d5a95a796",
   "metadata": {},
   "outputs": [
    {
     "name": "stdin",
     "output_type": "stream",
     "text": [
      "Nhập số nguyên dương:  4\n"
     ]
    },
    {
     "name": "stdout",
     "output_type": "stream",
     "text": [
      "Đây là số chẵn\n"
     ]
    }
   ],
   "source": [
    "n = input(\"Nhập số nguyên dương: \")\n",
    "if int(n)%2 == 0:\n",
    "    print(\"Đây là số chẵn\")\n",
    "else: \n",
    "    print(\"Đây là số lẻ\")"
   ]
  },
  {
   "cell_type": "code",
   "execution_count": null,
   "id": "1e8e314f-c130-406c-8199-558e5144bb5d",
   "metadata": {},
   "outputs": [],
   "source": [
    "'''Bài 2. Viết một chương trình kiểm tra một chuỗi nhập vào từ bàn phím: \n",
    "Chuỗi hoa; Chuỗi thường; Chuỗi chứa ký tự hoa và ký tự thường.\n",
    "'''"
   ]
  },
  {
   "cell_type": "code",
   "execution_count": 2,
   "id": "d0b695d4-f364-4a3c-9ce9-20b5655ec86e",
   "metadata": {},
   "outputs": [
    {
     "name": "stdin",
     "output_type": "stream",
     "text": [
      "Nhập chuỗi:  Hân\n"
     ]
    },
    {
     "name": "stdout",
     "output_type": "stream",
     "text": [
      "Đây là chuỗi chứa ký tự hoa và ký tự thường\n"
     ]
    }
   ],
   "source": [
    "s = input(\"Nhập chuỗi: \")\n",
    "if s.isupper():\n",
    "    print(\"Đây là chuỗi hoa\")\n",
    "elif s.islower():\n",
    "    print(\"Đây là chuỗi thường\")\n",
    "else:\n",
    "    print(\"Đây là chuỗi chứa ký tự hoa và ký tự thường\")"
   ]
  },
  {
   "cell_type": "code",
   "execution_count": null,
   "id": "0183186e-ef2a-4f2c-888b-3693b2748c65",
   "metadata": {},
   "outputs": [],
   "source": [
    "'''Bài 3. Viết một chương trình kiểm tra một chuỗi có trong chuỗi khác. Yêu cầu:\n",
    "Nhập vào một chuỗi st\n",
    "Nhập vào chuỗi cần tìm st_search\n",
    "Nếu có thì in ra màn hình “Đã tìm thấy chuỗi cần tìm, tại vị trí: …”. \n",
    "'''"
   ]
  },
  {
   "cell_type": "code",
   "execution_count": 6,
   "id": "588d8440-8544-4e9b-bb33-971608ef9695",
   "metadata": {},
   "outputs": [
    {
     "name": "stdin",
     "output_type": "stream",
     "text": [
      "Nhập chuỗi:  Vincom\n",
      "Nhập chuỗi cần tìm:  com\n"
     ]
    },
    {
     "name": "stdout",
     "output_type": "stream",
     "text": [
      "Đã tìm thấy chuỗi cần tìm, tại vị trí: 3\n"
     ]
    }
   ],
   "source": [
    "st = input(\"Nhập chuỗi: \")\n",
    "st_search = input(\"Nhập chuỗi cần tìm: \")\n",
    "if st_search in st:\n",
    "    print(\"Đã tìm thấy chuỗi cần tìm, tại vị trí: \"+\n",
    "          str(st.find(st_search)))\n",
    "else:\n",
    "    print(\"Lỗi\")\n",
    "    "
   ]
  },
  {
   "cell_type": "code",
   "execution_count": null,
   "id": "e658ece9-c608-4b01-a2b7-c9cfab359c4e",
   "metadata": {},
   "outputs": [],
   "source": [
    "'''Bài 4. Viết chương trình in số lớn nhất của 3 số'''"
   ]
  },
  {
   "cell_type": "code",
   "execution_count": 8,
   "id": "03b60c6b-7a02-41ed-b1fa-b30ebfda785b",
   "metadata": {},
   "outputs": [
    {
     "name": "stdin",
     "output_type": "stream",
     "text": [
      "Nhập chữ số đầu tiên:  3\n",
      "Nhập chữ số thứ hai:  7\n",
      "Nhập chữ số thứ ba:  6\n"
     ]
    },
    {
     "name": "stdout",
     "output_type": "stream",
     "text": [
      "Số lớn nhất của 3 số là:  3.0 , 7.0 và 6.0 là:  7.0\n"
     ]
    }
   ],
   "source": [
    "a = float(input(\"Nhập chữ số đầu tiên: \"))\n",
    "b = float(input(\"Nhập chữ số thứ hai: \"))\n",
    "c = float(input(\"Nhập chữ số thứ ba: \"))\n",
    "if (a >= b) and (a >= c):\n",
    "    max = a\n",
    "elif (b >= c) and (b >= c):\n",
    "    max = b\n",
    "else:\n",
    "    max = c\n",
    "print(\"Số lớn nhất của 3 số là: \",a,\",\",b,\"và\",c,\"là: \",max)"
   ]
  },
  {
   "cell_type": "code",
   "execution_count": null,
   "id": "befad86e-ac1b-41d5-8927-c3f8ed7ca0e6",
   "metadata": {},
   "outputs": [],
   "source": [
    "'''Bài 5: Viết một chương trình tính 1/2 + 2/3 + 3/4 + ... + n/(n + 1) \n",
    "với n là số nguyên được nhập vào (n> 0).\n",
    "'''"
   ]
  },
  {
   "cell_type": "code",
   "execution_count": 10,
   "id": "5df2d548-f689-49d0-ad84-980a51296018",
   "metadata": {},
   "outputs": [
    {
     "name": "stdin",
     "output_type": "stream",
     "text": [
      "Nhập số nguyên n lớn hơn 0:  6\n"
     ]
    },
    {
     "name": "stdout",
     "output_type": "stream",
     "text": [
      "4.4071428571428575\n"
     ]
    }
   ],
   "source": [
    "n = int(input(\"Nhập số nguyên n lớn hơn 0: \"))\n",
    "s=0.0\n",
    "for i in range(1,n+1):\n",
    "    s=s+float(float(i)/(i+1))\n",
    "print(s)"
   ]
  },
  {
   "cell_type": "code",
   "execution_count": null,
   "id": "2e90a7c7-7025-461b-97fa-3dbe6be378a4",
   "metadata": {},
   "outputs": [],
   "source": [
    "'''Bài 6: Viết một chương trình chấp nhận đầu vào là một câu, đếm số ký tự hoa, \n",
    "số ký tự thường. Giả sử đầu vào là: Quản Trị Mạng\n",
    "                   Thì đầu ra là: Chữ hoa: 3\n",
    "                                           Chữ thường: 8\n",
    "'''"
   ]
  },
  {
   "cell_type": "code",
   "execution_count": 11,
   "id": "7e84c4ee-34e2-40bf-beee-fff090163afe",
   "metadata": {},
   "outputs": [
    {
     "name": "stdin",
     "output_type": "stream",
     "text": [
      "Nhập chuỗi:  Hoa Hồng\n"
     ]
    },
    {
     "name": "stdout",
     "output_type": "stream",
     "text": [
      "Tổng số ký tự hoa là:  2\n",
      "Tổng số ký tự thường là:  5\n"
     ]
    }
   ],
   "source": [
    "st = input(\"Nhập chuỗi: \")\n",
    "sum_upper = 0\n",
    "sum_lower = 0\n",
    "for c in st:\n",
    "    if c.isupper():\n",
    "        sum_upper=sum_upper+1\n",
    "    elif c.islower():\n",
    "        sum_lower=sum_lower+1\n",
    "    else:\n",
    "        pass\n",
    "print(\"Tổng số ký tự hoa là: \",sum_upper)\n",
    "print(\"Tổng số ký tự thường là: \",sum_lower)"
   ]
  },
  {
   "cell_type": "code",
   "execution_count": null,
   "id": "e11f963e-82fd-4676-8120-8f1fd19f5eab",
   "metadata": {},
   "outputs": [],
   "source": [
    "'''Bài 7: Một số được gọi là số Amstrong bậc N, nếu nó là số nguyên dương và tổng bậc N \n",
    "của các các chữ số cấu thành thì bằng chính số đó.Ví dụ: \n",
    "           Số Amstrong bậc 4:  abcd = a4 + b4 + c4 + d4\n",
    "           Số Amstrong bậc N: abc….d  = aN + bN + cN + ….+ dN\n",
    "                Cụ thể: 153 = 1*1*1 + 5*5*5 + 3*3*3  nên 153 số Amstrong.\n",
    "Viết chương trình nhập vào 1 số, cho biết số đó có phải là số Amstrong hay không?\n",
    "'''"
   ]
  },
  {
   "cell_type": "code",
   "execution_count": 15,
   "id": "3a911265-8199-4e4d-807a-98a85d9f6585",
   "metadata": {},
   "outputs": [
    {
     "name": "stdin",
     "output_type": "stream",
     "text": [
      "Enter a number:  153\n"
     ]
    },
    {
     "name": "stdout",
     "output_type": "stream",
     "text": [
      "153 is Armstrong, level: 3\n"
     ]
    }
   ],
   "source": [
    "num = int(input(\"Enter a number: \"))\n",
    "level = len(str(num)) \n",
    "total = 0\n",
    "temp = num\n",
    "\n",
    "while temp > 0:\n",
    "    digit = temp % 10\n",
    "    total += digit ** level\n",
    "    temp //= 10\n",
    "\n",
    "if num == total:\n",
    "    print(num, \"is Armstrong, level:\", level)\n",
    "else:\n",
    "    print(num, \"is not Armstrong\")\n"
   ]
  },
  {
   "cell_type": "code",
   "execution_count": null,
   "id": "abfa6686-4d03-4bc1-ac51-19fd8270a3e6",
   "metadata": {},
   "outputs": [],
   "source": [
    "'''Bài 8: Viết chương trình loại bỏ các ký tự không phải \n",
    "là ký tự CHỮ CÁI và SỐ trong một chuỗi. \n",
    "          Ví dụ: Từ st1 = \"He is very handsome@%^&%^\" \n",
    "                     Trích thành chuỗi st2 = \"He is very handsome“\n",
    "'''"
   ]
  },
  {
   "cell_type": "code",
   "execution_count": 16,
   "id": "c948fc30-9a2e-4e2d-8b5a-24aa5c46e709",
   "metadata": {},
   "outputs": [
    {
     "name": "stdout",
     "output_type": "stream",
     "text": [
      "Hello he said and went\n"
     ]
    }
   ],
   "source": [
    "# Định nghĩa chuỗi các ký tự cần loại bỏ\n",
    "st1 = \"\"\"!()-[]{};:\"\"\\,<>./?@#$%^&*_~\"\"\"\n",
    "my_str = \"Hello!!!, he said ---and went.\"\n",
    "# Nếu muốn người dung nhập chuỗi vào thì dung lệnh sau\n",
    "# my_str = input(“Enter a string: \")\n",
    "\n",
    "# Loại bỏ ký tự cần loại bỏ\n",
    "st2 = \"\"\n",
    "for char in my_str:\n",
    "   if char not in st1:\n",
    "       st2 = st2 + char\n",
    "# Hiển thị chuỗi sau khi loại bỏ\n",
    "print(st2)\n"
   ]
  },
  {
   "cell_type": "code",
   "execution_count": null,
   "id": "04ae4c68-e5bc-48ca-98c0-55575ff9ae5c",
   "metadata": {},
   "outputs": [],
   "source": [
    "'''Bài 9: Viết chương trình tách từ thành 1 \n",
    "danh sách và sắp xếp các từ theo alphabe. \n",
    "'''"
   ]
  },
  {
   "cell_type": "code",
   "execution_count": 18,
   "id": "56610de4-1b4f-445a-9088-33f69a34fa0f",
   "metadata": {},
   "outputs": [
    {
     "name": "stdout",
     "output_type": "stream",
     "text": [
      "Các từ đã được tách và sắp xếp theo Alphabe\n",
      "Example\n",
      "Hello\n",
      "Is\n",
      "With\n",
      "an\n",
      "cased\n",
      "letters\n",
      "this\n"
     ]
    }
   ],
   "source": [
    "my_str = \"Hello this Is an Example With cased letters\"\n",
    "\n",
    "# Nếu muốn người dung nhập vào thì thay bằng lệnh sau\n",
    "#my_str = input(\"Enter a string: \")\n",
    "\n",
    "# Tách từ trong chuỗi và lưu vào danh sách ds_tu\n",
    "ds_tu = my_str.split()\n",
    "\n",
    "# Sắp xếp các phần tử (từ) trong danh sách từ ds_tu\n",
    "ds_tu.sort()\n",
    "\n",
    "# Hiển thị từ từ trong danh sách\n",
    "print(\"Các từ đã được tách và sắp xếp theo Alphabe\")\n",
    "for tu in ds_tu:\n",
    "   \tprint(tu)"
   ]
  },
  {
   "cell_type": "code",
   "execution_count": null,
   "id": "8ee3328e-8c36-4b84-8841-a29943bda76b",
   "metadata": {},
   "outputs": [],
   "source": [
    "'''Bài 10: Viết Chương trình nhập các số từ bàn phím. \n",
    "In ra giá trị trung bình\n",
    "'''"
   ]
  },
  {
   "cell_type": "code",
   "execution_count": 22,
   "id": "1775efb4-9fcf-4490-b8be-dd61f1258a38",
   "metadata": {},
   "outputs": [
    {
     "name": "stdin",
     "output_type": "stream",
     "text": [
      "Enter a number:  24\n",
      "Enter a number:  12\n",
      "Enter a number:  done\n"
     ]
    },
    {
     "name": "stdout",
     "output_type": "stream",
     "text": [
      "Average is:  18.0\n"
     ]
    }
   ],
   "source": [
    "total = 0\n",
    "count = 0\n",
    "while (True):\n",
    "    inp = input(\"Enter a number: \")\n",
    "    if inp == \"done\": \n",
    "        break\n",
    "    value = float(inp)\n",
    "    total = total + value\n",
    "    count = count + 1\n",
    "\n",
    "average = total / count\n",
    "print(\"Average is: \", average)\n"
   ]
  },
  {
   "cell_type": "code",
   "execution_count": null,
   "id": "8a442042-5b2a-4259-82b2-1a2358931f88",
   "metadata": {},
   "outputs": [],
   "source": [
    "'''Bài 11: Viết Chương trình nhập các số từ bàn phím, \n",
    "các giá trị này lưu vào danh sách. \n",
    "Sau đó, in ra giá trị trung bình.\n",
    "'''"
   ]
  },
  {
   "cell_type": "code",
   "execution_count": 23,
   "id": "e945ec0c-7093-4e3e-9847-2ad15ef688c0",
   "metadata": {},
   "outputs": [
    {
     "name": "stdin",
     "output_type": "stream",
     "text": [
      "Enter a number:  12\n",
      "Enter a number:  45\n",
      "Enter a number:  67\n",
      "Enter a number:  done\n"
     ]
    },
    {
     "name": "stdout",
     "output_type": "stream",
     "text": [
      "Giá trị Trung bình: 41.333333333333336\n",
      "[12.0, 45.0, 67.0]\n"
     ]
    }
   ],
   "source": [
    "numlist = list()\n",
    "while (True):\n",
    "    inp = input(\"Enter a number: \")\n",
    "    if inp == \"done\": break\n",
    "    value = float(inp)\n",
    "    numlist.append(value)\n",
    "\n",
    "average = sum(numlist) / len(numlist)\n",
    "print(\"Giá trị Trung bình:\", average)\n",
    "print(numlist)\n"
   ]
  },
  {
   "cell_type": "code",
   "execution_count": null,
   "id": "cfbc347a-9abe-4a4f-b240-87611bd7035b",
   "metadata": {},
   "outputs": [],
   "source": [
    "'''Bài 12: Viết chương trình tìm tất cả các số chia hết cho 7 nhưng không phải bội số của 5, \n",
    "nằm trong đoạn 2000 và 3200 (tính cả 2000 và 3200).\n",
    "Các số thu được sẽ được lưu vào 1 danh sách sau đó in thành \n",
    "chuỗi trên một dòng, cách nhau bằng dấu phẩy.\n",
    "'''"
   ]
  },
  {
   "cell_type": "code",
   "execution_count": 24,
   "id": "87d1c459-fee9-419b-8c92-294d53e44f0d",
   "metadata": {},
   "outputs": [
    {
     "name": "stdout",
     "output_type": "stream",
     "text": [
      "2002,2009,2016,2023,2037,2044,2051,2058,2072,2079,2086,2093,2107,2114,2121,2128,2142,2149,2156,2163,2177,2184,2191,2198,2212,2219,2226,2233,2247,2254,2261,2268,2282,2289,2296,2303,2317,2324,2331,2338,2352,2359,2366,2373,2387,2394,2401,2408,2422,2429,2436,2443,2457,2464,2471,2478,2492,2499,2506,2513,2527,2534,2541,2548,2562,2569,2576,2583,2597,2604,2611,2618,2632,2639,2646,2653,2667,2674,2681,2688,2702,2709,2716,2723,2737,2744,2751,2758,2772,2779,2786,2793,2807,2814,2821,2828,2842,2849,2856,2863,2877,2884,2891,2898,2912,2919,2926,2933,2947,2954,2961,2968,2982,2989,2996,3003,3017,3024,3031,3038,3052,3059,3066,3073,3087,3094,3101,3108,3122,3129,3136,3143,3157,3164,3171,3178,3192,3199\n"
     ]
    }
   ],
   "source": [
    "j=[]\n",
    "for i in range(2000, 3201):   \n",
    "  if (i % 7 == 0) and (i % 5 != 0):      \n",
    "    j.append(str(i))\n",
    "print(\",\".join(j))\n"
   ]
  },
  {
   "cell_type": "code",
   "execution_count": null,
   "id": "05b333dc-96cc-4240-9ebd-08c4c1187292",
   "metadata": {},
   "outputs": [],
   "source": [
    "'''Bài 13: Viết một chương trình cho phép người dung nhập vào một\n",
    "chuỗi trên nhiều dòng, sau đó chuyển các dòng này thành \n",
    "chữ in hoa và in ra màn hình. Yêu cầu:\n",
    "Giả sử đầu vào là:\n",
    "         chào các bạn\n",
    "         thân mến\n",
    "Đầu ra:\n",
    "        CHÀO CÁC BẠN\n",
    "        THÂN MẾN\n",
    "'''"
   ]
  },
  {
   "cell_type": "code",
   "execution_count": 25,
   "id": "695448cc-852a-4010-a59e-7cd4aa158e78",
   "metadata": {},
   "outputs": [
    {
     "name": "stdin",
     "output_type": "stream",
     "text": [
      " chào các bạn\n",
      " thân mến\n",
      " done\n",
      " break\n",
      " false\n",
      " \n"
     ]
    },
    {
     "name": "stdout",
     "output_type": "stream",
     "text": [
      "CHÀO CÁC BẠN\n",
      "THÂN MẾN\n",
      "DONE\n",
      "BREAK\n",
      "FALSE\n"
     ]
    }
   ],
   "source": [
    "lines = []\n",
    "while True:\n",
    "   s = input()\n",
    "   if s:\n",
    "      lines.append(s.upper())\n",
    "   else:\n",
    "      break;\n",
    "for sentence in lines:\n",
    "    print(sentence)\n"
   ]
  },
  {
   "cell_type": "code",
   "execution_count": null,
   "id": "eaef5f4f-a3b5-4dfe-85aa-270b97d84782",
   "metadata": {},
   "outputs": [],
   "source": [
    "'''Bài 14: Viết một chương trình tìm tất cả các số trong đoạn 100 và 300 \n",
    "(tính cả 2 số này) sao cho tất cả các chữ số trong số đó là số chẵn. \n",
    "In các số tìm được thành chuỗi cách nhau bởi dấu phẩy, trên một dòng. \n",
    "'''"
   ]
  },
  {
   "cell_type": "code",
   "execution_count": 29,
   "id": "3ef049b6-e424-4a1a-8801-b732eda76a2d",
   "metadata": {},
   "outputs": [
    {
     "name": "stdout",
     "output_type": "stream",
     "text": [
      "200,202,204,206,208,220,222,224,226,228,240,242,244,246,248,260,262,264,266,268,280,282,284,286,288\n"
     ]
    }
   ],
   "source": [
    "values = []\n",
    "for i in range(100, 301):\n",
    "    s = str(i)\n",
    "    if (int(s[0]) % 2 == 0) and (int(s[1]) % 2 == 0) and (int(s[2]) % 2 == 0):\n",
    "        values.append(s)\n",
    "print(\",\".join(values))\n"
   ]
  },
  {
   "cell_type": "code",
   "execution_count": null,
   "id": "4e6554d0-c9c5-4b8e-9216-bc596e26de4e",
   "metadata": {},
   "outputs": [],
   "source": [
    "'''Bài 15: Viết chương trình nhập một chuỗi số, phân tách bằng dấu phẩy. \n",
    "In ra một danh sách và một tuple chứa mọi số.\n",
    "Ví dụ: Đầu vào được cung cấp là 34,67,55,33,12,98 thì đầu ra là:\n",
    "[\"34\", \"67\", \"55\", \"33\", \"12\", \"98\"]\u000b",
    "(\"34\", \"67\", \"55\", \"33\", \"12\", \"98\"\n",
    "'''"
   ]
  },
  {
   "cell_type": "code",
   "execution_count": 31,
   "id": "b4db7661-0a96-4992-b0c6-7e107bc4b3ce",
   "metadata": {},
   "outputs": [
    {
     "name": "stdin",
     "output_type": "stream",
     "text": [
      "Nhập vào các giá trị: 34,67,55,33,12,98\n"
     ]
    },
    {
     "name": "stdout",
     "output_type": "stream",
     "text": [
      "['34', '67', '55', '33', '12', '98']\n",
      "('34', '67', '55', '33', '12', '98')\n"
     ]
    }
   ],
   "source": [
    "\n",
    "chuoi=input(\"Nhập vào các giá trị:\")\n",
    "kieu_ds=chuoi.split(\",\")\n",
    "kieu_tuples=tuple(kieu_ds)\n",
    "print(kieu_ds)\n",
    "print(kieu_tuples)\n"
   ]
  },
  {
   "cell_type": "code",
   "execution_count": null,
   "id": "cc2d3b64-005b-4926-b6fe-3c32e178448e",
   "metadata": {},
   "outputs": [],
   "source": [
    "'''Bài 16: Tạo ra một tự điển, có n phần tử, các khóa là từ 1 đến n và \n",
    "giá trị tương ứng là bình phương của khóa. \n",
    "Sau đó in từ điển ra màn hình\n",
    "'''"
   ]
  },
  {
   "cell_type": "code",
   "execution_count": 32,
   "id": "904912b3-e1ab-44ad-8350-a42ff71c6814",
   "metadata": {},
   "outputs": [
    {
     "name": "stdin",
     "output_type": "stream",
     "text": [
      "Nhập vào một số: 12\n"
     ]
    },
    {
     "name": "stdout",
     "output_type": "stream",
     "text": [
      "{1: 1, 2: 4, 3: 9, 4: 16, 5: 25, 6: 36, 7: 49, 8: 64, 9: 81, 10: 100, 11: 121, 12: 144}\n"
     ]
    }
   ],
   "source": [
    "n=int(input(\"Nhập vào một số:\"))\n",
    "d=dict()\n",
    "for i in range(1,n+1):\n",
    "    d[i]=i*i\n",
    "print(d)\n"
   ]
  },
  {
   "cell_type": "code",
   "execution_count": null,
   "id": "2dfb7c7b-3220-4d57-b18c-e05c225320d5",
   "metadata": {},
   "outputs": [],
   "source": [
    "'''Bài 17 : Sử dụng cấu trúc từ điển, viết một chương trình nhập một câu, in số chữ cái và chữ số trong câu đó. \n",
    "Giả sử đầu vào chuỗi: hello world! 123\n",
    "   Thì đầu ra sẽ là: \n",
    "                       - Số chữ cái là: 10\n",
    "                       - Số chữ số là: 3\n",
    "Gợi ý: giả sử ch là một ký tự. Thì:\n",
    "          - ch.isalpha() = True nếu ch là ký tự chữ cái\n",
    "          - ch.isdigit() = True nếu ch là ký tự số\n"
   ]
  },
  {
   "cell_type": "code",
   "execution_count": 35,
   "id": "2c831fe4-3621-4248-b954-469b35c203ae",
   "metadata": {},
   "outputs": [
    {
     "name": "stdin",
     "output_type": "stream",
     "text": [
      "Nhập vào một chuỗi:  hello world! 123\n"
     ]
    },
    {
     "name": "stdout",
     "output_type": "stream",
     "text": [
      "Số chữ cái là: 10\n",
      "Số chữ số là: 3\n"
     ]
    }
   ],
   "source": [
    "chuoi = input(\"Nhập vào một chuỗi: \")\n",
    "d = {\"chu_cai\": 0, \"chu_so\": 0}\n",
    "for ch in chuoi:\n",
    "    if ch.isalpha():\n",
    "        d[\"chu_cai\"] += 1\n",
    "    elif ch.isdigit():\n",
    "        d[\"chu_so\"] += 1\n",
    "    else:\n",
    "        pass\n",
    "print(\"Số chữ cái là:\", d[\"chu_cai\"])\n",
    "print(\"Số chữ số là:\", d[\"chu_so\"])\n"
   ]
  },
  {
   "cell_type": "code",
   "execution_count": null,
   "id": "e21ce12f-abbb-4a8a-9ff5-31323a976776",
   "metadata": {},
   "outputs": [],
   "source": [
    "'''Bài 18: Sử dụng cấu trúc từ điển, viết một chương trình nhập một câu, in số chữ hoa và số chữ thường trong câu đó.\n",
    "Giả sử đầu vào chuỗi: Hello World\n",
    "   Thì đầu ra sẽ là: \n",
    "                       - Số chữ thường: 8\n",
    "                       - Số chữ hoa: 2\n",
    "Gợi ý: giả sử ch là một ký tự. Thì:\n",
    "  - ch.isupper() = True nếu ch là ký tự hoa\n",
    "  - ch.islower() = True nếu ch là ký tự thường\n"
   ]
  },
  {
   "cell_type": "code",
   "execution_count": 39,
   "id": "13d28296-4ceb-4f9d-8176-dbedc6d7301b",
   "metadata": {},
   "outputs": [
    {
     "name": "stdin",
     "output_type": "stream",
     "text": [
      "Nhập vào một chuỗi:  Hello World\n"
     ]
    },
    {
     "name": "stdout",
     "output_type": "stream",
     "text": [
      "Số chữ hoa là: 2\n",
      "Số chữ thường là: 8\n"
     ]
    }
   ],
   "source": [
    "chuoi = input(\"Nhập vào một chuỗi: \")\n",
    "d = {\"chu_hoa\": 0, \"chu_thuong\": 0}\n",
    "for ch in chuoi:\n",
    "    if ch.isupper():\n",
    "        d[\"chu_hoa\"] += 1\n",
    "    elif ch.islower():\n",
    "        d[\"chu_thuong\"] += 1\n",
    "    else:\n",
    "        pass\n",
    "print(\"Số chữ hoa là:\", d[\"chu_hoa\"])\n",
    "print(\"Số chữ thường là:\", d[\"chu_thuong\"])\n"
   ]
  },
  {
   "cell_type": "code",
   "execution_count": null,
   "id": "c0277eca-36e5-48f2-99b4-3920d9b38a81",
   "metadata": {},
   "outputs": [],
   "source": [
    "'''Bài 19: Hiển thị 10 từ có tuần suất xuất hiện nhiều nhất\n",
    "(phổ biến nhất)\n",
    "'''"
   ]
  },
  {
   "cell_type": "code",
   "execution_count": 41,
   "id": "abc517fb-b618-46cb-bc8e-3c204a4f9756",
   "metadata": {},
   "outputs": [
    {
     "ename": "FileNotFoundError",
     "evalue": "[Errno 2] No such file or directory: 'romeo.txt'",
     "output_type": "error",
     "traceback": [
      "\u001b[1;31m---------------------------------------------------------------------------\u001b[0m",
      "\u001b[1;31mFileNotFoundError\u001b[0m                         Traceback (most recent call last)",
      "Cell \u001b[1;32mIn[41], line 1\u001b[0m\n\u001b[1;32m----> 1\u001b[0m ftext \u001b[38;5;241m=\u001b[39m \u001b[38;5;28mopen\u001b[39m(\u001b[38;5;124m\"\u001b[39m\u001b[38;5;124mromeo.txt\u001b[39m\u001b[38;5;124m\"\u001b[39m)\n\u001b[0;32m      2\u001b[0m tu_dien_cac_tu \u001b[38;5;241m=\u001b[39m {}\n\u001b[0;32m      4\u001b[0m \u001b[38;5;28;01mfor\u001b[39;00m dong \u001b[38;5;129;01min\u001b[39;00m ftext:\n",
      "File \u001b[1;32mC:\\ProgramData\\anaconda3\\Lib\\site-packages\\IPython\\core\\interactiveshell.py:324\u001b[0m, in \u001b[0;36m_modified_open\u001b[1;34m(file, *args, **kwargs)\u001b[0m\n\u001b[0;32m    317\u001b[0m \u001b[38;5;28;01mif\u001b[39;00m file \u001b[38;5;129;01min\u001b[39;00m {\u001b[38;5;241m0\u001b[39m, \u001b[38;5;241m1\u001b[39m, \u001b[38;5;241m2\u001b[39m}:\n\u001b[0;32m    318\u001b[0m     \u001b[38;5;28;01mraise\u001b[39;00m \u001b[38;5;167;01mValueError\u001b[39;00m(\n\u001b[0;32m    319\u001b[0m         \u001b[38;5;124mf\u001b[39m\u001b[38;5;124m\"\u001b[39m\u001b[38;5;124mIPython won\u001b[39m\u001b[38;5;124m'\u001b[39m\u001b[38;5;124mt let you open fd=\u001b[39m\u001b[38;5;132;01m{\u001b[39;00mfile\u001b[38;5;132;01m}\u001b[39;00m\u001b[38;5;124m by default \u001b[39m\u001b[38;5;124m\"\u001b[39m\n\u001b[0;32m    320\u001b[0m         \u001b[38;5;124m\"\u001b[39m\u001b[38;5;124mas it is likely to crash IPython. If you know what you are doing, \u001b[39m\u001b[38;5;124m\"\u001b[39m\n\u001b[0;32m    321\u001b[0m         \u001b[38;5;124m\"\u001b[39m\u001b[38;5;124myou can use builtins\u001b[39m\u001b[38;5;124m'\u001b[39m\u001b[38;5;124m open.\u001b[39m\u001b[38;5;124m\"\u001b[39m\n\u001b[0;32m    322\u001b[0m     )\n\u001b[1;32m--> 324\u001b[0m \u001b[38;5;28;01mreturn\u001b[39;00m io_open(file, \u001b[38;5;241m*\u001b[39margs, \u001b[38;5;241m*\u001b[39m\u001b[38;5;241m*\u001b[39mkwargs)\n",
      "\u001b[1;31mFileNotFoundError\u001b[0m: [Errno 2] No such file or directory: 'romeo.txt'"
     ]
    }
   ],
   "source": [
    "ftext = open(\"romeo.txt\")\n",
    "tu_dien_cac_tu = {}\n",
    "\n",
    "for dong in ftext:\n",
    "    danh_sach_tu = dong.split()\n",
    "    for tu in danh_sach_tu:\n",
    "        tu_dien_cac_tu[tu] = tu_dien_cac_tu.get(tu, 0) + 1\n",
    "\n",
    "danh_sach = []\n",
    "for key, val in tu_dien_cac_tu.items():\n",
    "    newtup = (val, key)\n",
    "    danh_sach.append(newtup)\n",
    "\n",
    "danh_sach = sorted(danh_sach, reverse=True)\n",
    "\n",
    "for val, key in danh_sach[:10]:\n",
    "    print(key, val)\n",
    "\n"
   ]
  },
  {
   "cell_type": "code",
   "execution_count": null,
   "id": "638a7250-6a7c-43ef-97a4-b746283e40cb",
   "metadata": {},
   "outputs": [],
   "source": [
    "'''Bài 20: Viết một chương trình tính và in kết quả \n",
    "giai thừa của một số nhập vào từ bàn phím.     \n",
    "'''"
   ]
  },
  {
   "cell_type": "code",
   "execution_count": 42,
   "id": "cce099a2-a189-4f4c-a347-2ae0acc64d4a",
   "metadata": {},
   "outputs": [
    {
     "name": "stdin",
     "output_type": "stream",
     "text": [
      "Nhập số cần tính giai thừa: 5\n"
     ]
    },
    {
     "name": "stdout",
     "output_type": "stream",
     "text": [
      "Giai thừa của 5 là: 120\n"
     ]
    }
   ],
   "source": [
    "x=int(input(\"Nhập số cần tính giai thừa:\"))\n",
    "def giaithua(x):\n",
    "    if x == 0:\n",
    "        return 1\n",
    "    return x * giaithua(x - 1)\n",
    "print(\"Giai thừa của\",x, \"là:\", giaithua(x))\n"
   ]
  },
  {
   "cell_type": "code",
   "execution_count": null,
   "id": "64696f66-c621-46c8-b8ed-4658f3403d87",
   "metadata": {},
   "outputs": [],
   "source": [
    "'''Bài 21: : Định nghĩa một hàm có thể tạo và in list chứa các giá trị bình phương của các số từ 1 đến 20 (tính cả 1 và 20). \n",
    "Sau đó thực thi hàm.\n",
    "Gợi ý:\n",
    "Sử dụng toán tử ** để lấy giá trị bình phương.\n",
    "Sử dụng range() cho vòng lặp.\n",
    "Sử dụng phương thức append() để thêm giá trị vào danh sách.\n",
    "'''"
   ]
  },
  {
   "cell_type": "code",
   "execution_count": 44,
   "id": "4114c335-3e3a-4d89-8a94-180e4a14da57",
   "metadata": {},
   "outputs": [
    {
     "name": "stdout",
     "output_type": "stream",
     "text": [
      "[1, 4, 9, 16, 25, 36, 49, 64, 81, 100, 121, 144, 169, 196, 225, 256, 289, 324, 361, 400]\n"
     ]
    }
   ],
   "source": [
    "def Tao_In_DS():\n",
    "    ds = []\n",
    "    for i in range(1, 21):\n",
    "        ds.append(i**2)\n",
    "    print(ds)\n",
    "\n",
    "Tao_In_DS()\n",
    "\n"
   ]
  },
  {
   "cell_type": "code",
   "execution_count": null,
   "id": "733a34f1-849a-43e3-9727-7e173c2fe45a",
   "metadata": {},
   "outputs": [],
   "source": [
    "'''Bài 22: Định nghĩa một hàm có thể tạo danh sách chứa các giá trị bình phương của các số từ 1 đến 20 (bao gồm cả 1 và 20) và\n",
    "in 5 phần tử đầu tiên cùng với 5 phần tử cuối cùng trong danh sách.\n",
    "Gợi ý:\n",
    "Sử dụng toán tử ** để lấy giá trị bình phương.\n",
    "Sử dụng range() cho vòng lặp.\n",
    "Sử dụng phương thức append() để thêm giá trị vào danh sách.\n",
    "Sử dụng [n1:n2] để trích danh sách và in\n",
    "'''"
   ]
  },
  {
   "cell_type": "code",
   "execution_count": 45,
   "id": "2a383342-b88f-49f6-9cbd-b84d0865135b",
   "metadata": {},
   "outputs": [
    {
     "name": "stdout",
     "output_type": "stream",
     "text": [
      "[1, 4, 9, 16, 25, 256, 289, 324, 361, 400]\n"
     ]
    }
   ],
   "source": [
    "def Tao_In_DS():\n",
    "    ds = []\n",
    "    for i in range(1, 21):\n",
    "        ds.append(i**2)\n",
    "    print(ds[:5] + ds[-5:])\n",
    "\n",
    "Tao_In_DS()\n"
   ]
  },
  {
   "cell_type": "code",
   "execution_count": null,
   "id": "6151a12b-fcbc-45a8-8ad1-dfd81aac5d75",
   "metadata": {},
   "outputs": [],
   "source": [
    "'''Bài 23: Định nghĩa một hàm Check_chan(n) kiểm tra một số có phải là số chẵn hay không. Yêu cầu:\n",
    "Hàm được luu vào tệp Kiem_tra.py\n",
    "Tạo tệp Test.py để sử dụng hàm này nhằm kiểm tra một số nhập vào từ bàn phím có phải là số chẳn hay không.\n",
    "'''"
   ]
  },
  {
   "cell_type": "code",
   "execution_count": 8,
   "id": "625e57de-add9-49e6-9c02-4b19fec09989",
   "metadata": {},
   "outputs": [
    {
     "name": "stdout",
     "output_type": "stream",
     "text": [
      "Writing Kiem_tra.py\n"
     ]
    }
   ],
   "source": [
    "%%writefile Kiem_tra.py\n",
    "\n",
    "def Check_chan(x):\n",
    "    if x % 2 == 0:\n",
    "        print(x, \"là số chẵn\")\n",
    "    else:\n",
    "        print(x, \"là số lẻ\")"
   ]
  },
  {
   "cell_type": "code",
   "execution_count": 9,
   "id": "48aa4ad8-a24a-4563-9245-cc4d80121076",
   "metadata": {},
   "outputs": [
    {
     "name": "stdin",
     "output_type": "stream",
     "text": [
      "Nhập vào một số để kiểm tra:  6\n"
     ]
    },
    {
     "name": "stdout",
     "output_type": "stream",
     "text": [
      "6 là số chẵn\n"
     ]
    }
   ],
   "source": [
    "from Kiem_tra import Check_chan\n",
    "\n",
    "n = int(input(\"Nhập vào một số để kiểm tra: \"))\n",
    "Check_chan(n)\n"
   ]
  },
  {
   "cell_type": "code",
   "execution_count": null,
   "id": "2288715b-50a8-4d72-b682-2c3ea2ae1a4b",
   "metadata": {},
   "outputs": [],
   "source": [
    "'''Bài 24: Định nghĩa một hàm có đầu vào là 2 chuỗi và in chuỗi có độ dài lớn hơn trong giao diện điều khiển. Nếu 2 chuỗi có chiều dài như nhau thì in tất cả các chuỗi theo dòng. Yêu cầu:\n",
    "Hàm được luu vào tệp So_Sanh_Chuoi.py\n",
    "Tạo tệp Test.py để sử dụng hàm này nhằm kiểm tra 2 chuỗi và in ra kết quả.\n",
    "'''"
   ]
  },
  {
   "cell_type": "code",
   "execution_count": 13,
   "id": "9d2af1c7-b56b-47f3-9f13-a71c4f0b4bf3",
   "metadata": {},
   "outputs": [
    {
     "name": "stdout",
     "output_type": "stream",
     "text": [
      "Overwriting So_Sanh_Chuoi.py\n"
     ]
    }
   ],
   "source": [
    "%%writefile So_Sanh_Chuoi.py\n",
    "\n",
    "def printValue(s1, s2):\n",
    "    len1 = len(s1)\n",
    "    len2 = len(s2)\n",
    "    if len1 > len2:\n",
    "        print(\"Chuỗi dài hơn:\", s1)\n",
    "    elif len2 > len1:\n",
    "        print(\"Chuỗi dài hơn:\", s2)\n",
    "    else:\n",
    "        print(s1)\n",
    "        print(s2)\n"
   ]
  },
  {
   "cell_type": "code",
   "execution_count": 15,
   "id": "2bf35334-ff35-4c65-9a7d-528dffc44928",
   "metadata": {},
   "outputs": [
    {
     "name": "stdin",
     "output_type": "stream",
     "text": [
      "Nhập vào chuỗi thứ nhất:  Văn học]\n",
      "Nhập vào chuỗi thứ hai:  Lý\n"
     ]
    },
    {
     "name": "stdout",
     "output_type": "stream",
     "text": [
      "Chuỗi dài hơn: Văn học]\n"
     ]
    }
   ],
   "source": [
    "from So_Sanh_Chuoi import printValue\n",
    "st1 = input(\"Nhập vào chuỗi thứ nhất: \")\n",
    "st2 = input(\"Nhập vào chuỗi thứ hai: \")\n",
    "printValue(st1, st2)\n"
   ]
  },
  {
   "cell_type": "code",
   "execution_count": null,
   "id": "7934aff5-9563-41e1-9972-1dc7b6624d32",
   "metadata": {},
   "outputs": [],
   "source": [
    "'''Bài 25: Tạo tệp tu_dien.py để định nghĩa:\n",
    "               - 01 hàm Tao_TD(Max) để tạo 1 từ điển, chứa các key là số từ 1 đến Max \n",
    "               (số Max nhập vào từ bàn phím) và các giá trị là bình phương của key. \n",
    "               - 01 Hàm Print_Item(TD) để in các phần tử của từ điển.\n",
    "               - 01 Hàm Print_Key(TD) để in các giá trị của các phần tử từ điển\n",
    "               - 01 Hàm Print_Value(TD) để in giá trị của các phần tử từ điển \n",
    "               - Tạo tệp Test_TD.py để sử dụng các hàm này.\n",
    "'''"
   ]
  },
  {
   "cell_type": "code",
   "execution_count": 16,
   "id": "901fc178-df1d-4b0b-9188-dcfc144ee0aa",
   "metadata": {},
   "outputs": [
    {
     "name": "stdout",
     "output_type": "stream",
     "text": [
      "Writing tu_dien.py\n"
     ]
    }
   ],
   "source": [
    "%%writefile tu_dien.py\n",
    "def tao_TD(Max):\n",
    "    d = dict()\n",
    "    for i in range(1, Max + 1):\n",
    "        d[i] = i ** 2\n",
    "    return d\n",
    "def Print_Item(TD):\n",
    "    for k, v in TD.items():\n",
    "        print(k, v)\n",
    "def Print_key(TD):\n",
    "    for k in TD.keys():\n",
    "        print(k)\n",
    "def Print_value(TD):\n",
    "    for v in TD.values():\n",
    "        print(v)\n"
   ]
  },
  {
   "cell_type": "code",
   "execution_count": 17,
   "id": "d5686777-e46b-4289-8b91-fbfc303f25ea",
   "metadata": {},
   "outputs": [
    {
     "name": "stdin",
     "output_type": "stream",
     "text": [
      "Nhập chỉ số Max:  3\n"
     ]
    },
    {
     "name": "stdout",
     "output_type": "stream",
     "text": [
      "Các phần tử của từ điển là:\n",
      "1 1\n",
      "2 4\n",
      "3 9\n",
      "Khóa các phần tử của từ điển:\n",
      "1\n",
      "2\n",
      "3\n",
      "Giá trị các phần tử của từ điển:\n",
      "1\n",
      "4\n",
      "9\n"
     ]
    }
   ],
   "source": [
    "from tu_dien import *\n",
    "n = int(input(\"Nhập chỉ số Max: \"))\n",
    "TD = tao_TD(n)\n",
    "print(\"Các phần tử của từ điển là:\")\n",
    "Print_Item(TD)\n",
    "print(\"Khóa các phần tử của từ điển:\")\n",
    "Print_key(TD)\n",
    "print(\"Giá trị các phần tử của từ điển:\")\n",
    "Print_value(TD)\n"
   ]
  },
  {
   "cell_type": "code",
   "execution_count": null,
   "id": "9822b318-a3f9-416b-b01c-95288d3be6d7",
   "metadata": {},
   "outputs": [],
   "source": [
    "'''Bài 26: : Viết một chương trình đọc một chữ cái từ người dùng.\n",
    "Nếu người dùng nhập a, e, i, o hoặc u thì chương trình hiển thị một thông báo cho biết rằng \n",
    "chữ cái đã nhập là nguyên âm (xét ngôn ngữ Anh). Nếu người dùng nhập y thì chương trình sẽ \n",
    "hiển thị một thông báo cho biết  có thể y là nguyên âm  hoặc phụ âm. \n",
    "Nếu không phải các trường hợp trên, chương trình sẽ hiển thị một thông báo cho biết rằng chữ cái là phụ âm'''"
   ]
  },
  {
   "cell_type": "code",
   "execution_count": 18,
   "id": "dab0a7ed-70d7-4e2f-b0ae-1b9f1a3932c9",
   "metadata": {},
   "outputs": [
    {
     "name": "stdin",
     "output_type": "stream",
     "text": [
      "Nhập một chữ cái:  Y\n"
     ]
    },
    {
     "name": "stdout",
     "output_type": "stream",
     "text": [
      "Có thể là nguyên âm hoặc phụ âm\n"
     ]
    }
   ],
   "source": [
    "st = input(\"Nhập một chữ cái: \")\n",
    "if st in \"aeiouAEIOU\":\n",
    "    print(\"Nguyên âm\")\n",
    "elif st in \"yY\":\n",
    "    print(\"Có thể là nguyên âm hoặc phụ âm\")\n",
    "else:\n",
    "    print(\"Phụ âm\")\n"
   ]
  },
  {
   "cell_type": "code",
   "execution_count": null,
   "id": "e04c77e1-a7f6-4b59-828a-c36d88f3d66e",
   "metadata": {},
   "outputs": [],
   "source": [
    "'''Bài 27: Viết chương trình xác định tên của hình dạng dựa trên số cạnh của nó.\n",
    "Ví dụ, nhập số 3 thì là hình tam giác, 4 hình tứ giác ,...\n",
    "Yêu cầu: Chương trình hỗ trợ các hình dạng từ 3 đến 10 cạnh.\n",
    "Nếu số cạnh vượt ra bên ngoài phạm vi này thì chương trình sẽ hiển thị thông báo lỗi thích hợp\n",
    "'''"
   ]
  },
  {
   "cell_type": "code",
   "execution_count": 19,
   "id": "6f6eb59c-46da-4a47-8557-f5221dc6a80d",
   "metadata": {},
   "outputs": [
    {
     "name": "stdin",
     "output_type": "stream",
     "text": [
      "Nhập số cạnh:  5\n"
     ]
    },
    {
     "name": "stdout",
     "output_type": "stream",
     "text": [
      "Ngũ giác\n"
     ]
    }
   ],
   "source": [
    "n = int(input(\"Nhập số cạnh: \"))\n",
    "if n == 3:\n",
    "    print(\"Tam giác\")\n",
    "elif n == 4:\n",
    "    print(\"Tứ giác\")\n",
    "elif n == 5:\n",
    "    print(\"Ngũ giác\")\n",
    "elif n == 6:\n",
    "    print(\"Lục giác\")\n",
    "elif n == 7:\n",
    "    print(\"Thất giác\")\n",
    "elif n == 8:\n",
    "    print(\"Bát giác\")\n",
    "elif n == 9:\n",
    "    print(\"Cửu giác\")\n",
    "elif n == 10:\n",
    "    print(\"Thập giác\")\n",
    "else:\n",
    "    print(\"Chỉ hỗ trợ từ 3 đến 10 cạnh\")\n"
   ]
  },
  {
   "cell_type": "code",
   "execution_count": null,
   "id": "662c181f-816d-4e34-8ed7-a127b7f7c6c5",
   "metadata": {},
   "outputs": [],
   "source": [
    "'''Bài 28: Số ngày của một tháng thay đổi từ 28 đến 31 ngày.\n",
    "Viết một chương trình đọc tên của một tháng từ người dùng dưới dạng một chuỗi. \n",
    "Sau đó, chương trình sẽ hiển thị số ngày trong tháng đó (Chú ý: Số ngày là  28 hoặc 29 ngày để biểu diễn cho tháng 2).\n",
    "'''"
   ]
  },
  {
   "cell_type": "code",
   "execution_count": 20,
   "id": "6885ca68-6f1e-4420-bd4e-96afe368c890",
   "metadata": {},
   "outputs": [
    {
     "name": "stdin",
     "output_type": "stream",
     "text": [
      "Nhập tháng :  4\n"
     ]
    },
    {
     "name": "stdout",
     "output_type": "stream",
     "text": [
      "Tháng 4 có 30 ngày\n"
     ]
    }
   ],
   "source": [
    "thang = input(\"Nhập tháng : \")\n",
    "if thang in [\"1\",\"3\",\"5\",\"7\",\"8\",\"10\",\"12\"]:\n",
    "    print(\"Tháng\", thang, \"có 31 ngày\")\n",
    "elif thang in [\"4\",\"6\",\"9\",\"11\"]:\n",
    "    print(\"Tháng\", thang, \"có 30 ngày\")\n",
    "elif thang == \"2\":\n",
    "    print(\"Tháng 2 có 28 hoặc 29 ngày\")\n",
    "else:\n",
    "    print(\"Tháng không hợp lệ\")\n"
   ]
  },
  {
   "cell_type": "code",
   "execution_count": null,
   "id": "14da80b0-93ee-409e-8b1d-7eb1de85bfb2",
   "metadata": {},
   "outputs": [],
   "source": [
    "'''Bài 29: Một hình tam giác có thể được phân loại dựa trên độ dài của các cạnh của nó. \n",
    "Tất cả ba cạnh của một tam giác đều có cùng độ dài. \n",
    "Một tam giác cân có hai cạnh có cùng độ dài và một cạnh thứ ba có độ dài khác nhau,... \n",
    "Viết chương trình đọc độ dài ba cạnh của một tam giác từ người dùng. Sau đó hiển thị một thông báo cho biết loại tam giác.\n",
    "'''"
   ]
  },
  {
   "cell_type": "code",
   "execution_count": 21,
   "id": "3dc91df5-0a94-4bba-8f74-fec8b6bb4aca",
   "metadata": {},
   "outputs": [
    {
     "name": "stdin",
     "output_type": "stream",
     "text": [
      "Nhập cạnh a:  3\n",
      "Nhập cạnh b:  4\n",
      "Nhập cạnh c:  5\n"
     ]
    },
    {
     "name": "stdout",
     "output_type": "stream",
     "text": [
      "Tam giác thường\n"
     ]
    }
   ],
   "source": [
    "a = int(input(\"Nhập cạnh a: \"))\n",
    "b = int(input(\"Nhập cạnh b: \"))\n",
    "c = int(input(\"Nhập cạnh c: \"))\n",
    "if a == b and b == c:\n",
    "    print(\"Tam giác đều\")\n",
    "elif a == b or b == c or a == c:\n",
    "    print(\"Tam giác cân\")\n",
    "else:\n",
    "    print(\"Tam giác thường\")\n"
   ]
  },
  {
   "cell_type": "code",
   "execution_count": null,
   "id": "087c3b58-8285-46c8-997c-3ea3a8c82ec5",
   "metadata": {},
   "outputs": [],
   "source": [
    "'''Bài 30: Hầu hết các năm có 365 ngày. Tuy nhiên, thời gian cần thiết để Trái đất quay quanh \n",
    "Mặt trời thực sự nhiều hơn thế một chút. Do đó, thêm một ngày, ngày 29 tháng 2,\n",
    "được đưa vào một số năm để khắc phục sự khác biệt này. Những năm như vậy được gọi là năm nhuận.\n",
    "Các quy tắc để xác định xem một năm có phải là năm nhuận hay không:\n",
    "Bất kỳ năm nào chia hết cho 400 là một năm nhuận.\n",
    "Trong số các năm còn lại, bất kỳ năm nào chia hết cho 100 không phải là năm nhuận.\n",
    "Trong số các năm còn lại, bất kỳ năm nào chia hết cho 4 là một năm nhuận.\n",
    "Tất cả các năm khác không phải là năm nhuận.\n",
    "Viết chương trình đọc một năm từ người dùng và hiển thị thông báo cho biết đó có phải là năm nhuận hay không\n",
    "'''"
   ]
  },
  {
   "cell_type": "code",
   "execution_count": 22,
   "id": "5bf8257d-72a4-47f4-b6b2-4a820ee11cd6",
   "metadata": {},
   "outputs": [
    {
     "name": "stdin",
     "output_type": "stream",
     "text": [
      "Nhập năm:  2900\n"
     ]
    },
    {
     "name": "stdout",
     "output_type": "stream",
     "text": [
      "Không phải năm nhuận\n"
     ]
    }
   ],
   "source": [
    "nam = int(input(\"Nhập năm: \"))\n",
    "if nam % 400 == 0:\n",
    "    print(\"Năm nhuận\")\n",
    "elif nam % 100 == 0:\n",
    "    print(\"Không phải năm nhuận\")\n",
    "elif nam % 4 == 0:\n",
    "    print(\"Năm nhuận\")\n",
    "else:\n",
    "    print(\"Không phải năm nhuận\")\n"
   ]
  },
  {
   "cell_type": "code",
   "execution_count": null,
   "id": "6d8dbe39-dc3d-4769-b032-8f41475ddde5",
   "metadata": {},
   "outputs": [],
   "source": [
    "'''Bài 31: Một trong những ví dụ đầu tiên về mã hóa được Julius Caesar sử dụng.\n",
    "Ý tưởng mật mã này rất đơn giản: Mỗi chữ cái trong tin nhắn gốc được dịch chuyển 3 vị trí, \n",
    "tức là A chuyển thành D, B chuyển thành E, C chuyển thành F, D chuyển thành G, v.v. \n",
    "Tương tự, 03 chữ cái cuối cùng trong bảng chữ cái được thay thế: X chuyển thành A, Y chuyển thành B và Z chuyển thành C. \n",
    "Các ký tự không phải chữ cái thì giữ nguyên.\n",
    "Viết chương trình thực hiện mật mã Caesar, cho phép người dùng nhập vào một tin nhắn và sau đó hiển thị tin nhắn\n",
    "đã được mã hóa. Đảm bảo rằng chương trình mã hóa cả chữ hoa và chữ thường. \n",
    "'''"
   ]
  },
  {
   "cell_type": "code",
   "execution_count": 23,
   "id": "e6bcf21b-118d-4f77-a482-d36ccbba615e",
   "metadata": {},
   "outputs": [
    {
     "name": "stdin",
     "output_type": "stream",
     "text": [
      "Nhập tin nhắn:  Halo\n"
     ]
    },
    {
     "name": "stdout",
     "output_type": "stream",
     "text": [
      "Mã hóa: Kdor\n"
     ]
    }
   ],
   "source": [
    "chuoi = input(\"Nhập tin nhắn: \")\n",
    "ketqua = \"\"\n",
    "for ch in chuoi:\n",
    "    if ch >= 'a' and ch <= 'z':\n",
    "        so = ord(ch) + 3\n",
    "        if so > ord('z'):\n",
    "            so = so - 26\n",
    "        ketqua += chr(so)\n",
    "    elif ch >= 'A' and ch <= 'Z':    \n",
    "        so = ord(ch) + 3\n",
    "        if so > ord('Z'):\n",
    "            so = so - 26\n",
    "        ketqua += chr(so)\n",
    "    else:\n",
    "        ketqua += ch# giữ nguyên ký tự khác\n",
    "print(\"Mã hóa:\", ketqua)"
   ]
  },
  {
   "cell_type": "code",
   "execution_count": null,
   "id": "06f05a62-944e-4446-ab83-c752d0fd12cb",
   "metadata": {},
   "outputs": [],
   "source": [
    "'''Bài 32: Mở rộng viết chương trình mã hóa mã Caesar, cho phép người dùng cung cấp tin nhắn\n",
    "và sau đó hiển thị tin nhắn đã được mã hóa. Chương trình cũng hỗ trợ giải mã (chuyển ngược lại)\n",
    "để có thể sử dụng cả hai chức năng: mã hóa tin nhắn và giải mã tin nhắn. Và số ký tự dịch chuyển do người dùng nhập.\n",
    "'''"
   ]
  },
  {
   "cell_type": "code",
   "execution_count": 24,
   "id": "0a76d95a-a0d5-4d0a-8151-d704d6cad86c",
   "metadata": {},
   "outputs": [
    {
     "name": "stdin",
     "output_type": "stream",
     "text": [
      "Nhập tin nhắn:  Hekla\n",
      "Nhập số dịch:  2\n",
      "Bạn muốn mã hóa (e) hay giải mã (d)?  e\n"
     ]
    },
    {
     "name": "stdout",
     "output_type": "stream",
     "text": [
      "Kết quả: Jgmnc\n"
     ]
    }
   ],
   "source": [
    "chuoi = input(\"Nhập tin nhắn: \")\n",
    "dich = int(input(\"Nhập số dịch: \"))\n",
    "chon = input(\"Bạn muốn mã hóa (e) hay giải mã (d)? \")\n",
    "if chon == \"d\":\n",
    "    dich = -dich\n",
    "ketqua = \"\"\n",
    "for ch in chuoi:\n",
    "    if ch >= 'a' and ch <= 'z':\n",
    "        so = ord(ch) + dich\n",
    "        while so > ord('z'):\n",
    "            so -= 26\n",
    "        while so < ord('a'):\n",
    "            so += 26\n",
    "        ketqua += chr(so)\n",
    "    elif ch >= 'A' and ch <= 'Z':\n",
    "        so = ord(ch) + dich\n",
    "        while so > ord('Z'):\n",
    "            so -= 26\n",
    "        while so < ord('A'):\n",
    "            so += 26\n",
    "        ketqua += chr(so)\n",
    "    else:\n",
    "        ketqua += ch\n",
    "print(\"Kết quả:\", ketqua)\n"
   ]
  },
  {
   "cell_type": "code",
   "execution_count": null,
   "id": "e98d4bff-3e55-452b-94b0-01fb4fca7681",
   "metadata": {},
   "outputs": [],
   "source": [
    "'''Bài 33: Kiểm tra một chuỗi có phải là Palindrom không? \n",
    "Gợi ý: Một chuỗi là một palindrom nếu nó chứa 2 chuỗi con đối xứng giống nhau. Ví dụ: “anna”, “civic”, “level” và “hannah” \n",
    "Viết chương trình đọc một chuỗi từ người dùng và sử dụng một vòng lặp để xác định xem đó có phải là một Palindrom hay không. \n",
    "Hiển thị kết quả, bao gồm một thông báo đầu ra có ý nghĩa.\n",
    "'''"
   ]
  },
  {
   "cell_type": "code",
   "execution_count": 1,
   "id": "6fd76da0-b051-4e06-978f-e58b92975fac",
   "metadata": {},
   "outputs": [
    {
     "name": "stdin",
     "output_type": "stream",
     "text": [
      "Nhập một chuỗi:  anna\n"
     ]
    },
    {
     "name": "stdout",
     "output_type": "stream",
     "text": [
      " Chuỗi là Palindrom!\n"
     ]
    }
   ],
   "source": [
    "chuoi = input(\"Nhập một chuỗi: \")\n",
    "chuoi = chuoi.replace(\" \", \"\").lower()\n",
    "chuoi_dao = \"\"\n",
    "for ky_tu in chuoi:\n",
    "    chuoi_dao = ky_tu + chuoi_dao \n",
    "if chuoi == chuoi_dao:\n",
    "    print(\" Chuỗi là Palindrom!\")\n",
    "else:\n",
    "    print(\" Chuỗi không phải là Palindrom.\")\n"
   ]
  },
  {
   "cell_type": "code",
   "execution_count": null,
   "id": "0c418237-0c8e-47f8-99a2-088e915e242d",
   "metadata": {},
   "outputs": [],
   "source": [
    "'''Bài 34: Viết chương trình chuyển đổi số thập phân thành nhị phân. \n",
    "Đọc số thập phân từ người dùng dưới dạng số nguyên. \n",
    "Hiển thị kết quả, cùng với một thông điệp thích hợp.\n",
    "'''"
   ]
  },
  {
   "cell_type": "code",
   "execution_count": 2,
   "id": "ed16a0d1-9884-47c3-88bf-d3e66558e90c",
   "metadata": {},
   "outputs": [
    {
     "name": "stdin",
     "output_type": "stream",
     "text": [
      "Nhập một số thập phân:  12\n"
     ]
    },
    {
     "name": "stdout",
     "output_type": "stream",
     "text": [
      "Số 12 trong hệ nhị phân là: 1100\n"
     ]
    }
   ],
   "source": [
    "so = int(input(\"Nhập một số thập phân: \"))\n",
    "#  hàm bin() để đổi sang nhị phân\n",
    "nhi_phan = bin(so)[2:]\n",
    "print(\"Số\", so, \"trong hệ nhị phân là:\", nhi_phan)\n"
   ]
  },
  {
   "cell_type": "code",
   "execution_count": null,
   "id": "0345924a-209f-464c-9287-3e78bf93b19c",
   "metadata": {},
   "outputs": [],
   "source": [
    "'''Bài 35: Viết một chương trình tạo ra một danh sách các số lẻ từ các số được người dùng nhập vào. \n",
    "Giả sử đầu vào là: 1,2,3,4,5,6,7,8,9 thì đầu ra phải là: 1,3,5,7,9\n",
    "'''"
   ]
  },
  {
   "cell_type": "code",
   "execution_count": 3,
   "id": "d60ce4b5-f324-4c4b-92c8-7751923c8338",
   "metadata": {},
   "outputs": [
    {
     "name": "stdin",
     "output_type": "stream",
     "text": [
      "Nhập các số, cách nhau bằng dấu phẩy:  1,6,9,10\n"
     ]
    },
    {
     "name": "stdout",
     "output_type": "stream",
     "text": [
      "Các số lẻ là: [1, 9]\n"
     ]
    }
   ],
   "source": [
    "chuoi_so = input(\"Nhập các số, cách nhau bằng dấu phẩy: \")\n",
    "danh_sach = chuoi_so.split(\",\")\n",
    "so_le = []\n",
    "for x in danh_sach:\n",
    "    if int(x) % 2 != 0:  # nếu là số lẻ\n",
    "        so_le.append(int(x))\n",
    "print(\"Các số lẻ là:\", so_le)\n"
   ]
  },
  {
   "cell_type": "code",
   "execution_count": null,
   "id": "fb6f28e9-5f88-449c-8bc1-4189fc2faf84",
   "metadata": {},
   "outputs": [],
   "source": [
    "'''Bài 36: Viết chương trình đọc các số nguyên từ người dùng và lưu trữ chúng trong danh sách.\n",
    "Chương trình sẽ tiếp tục đọc các giá trị cho đến khi người dùng nhập ký tự 0. \n",
    "Sau đó, nó sẽ hiển thị tất cả các giá trị được nhập bởi người dùng (ngoại trừ 0) theo thứ tự tăng dần, \n",
    "với một giá trị xuất hiện trên mỗi dòng. Sử dụng phương thức sắp xếp hoặc hàm được sắp xếp để sắp xếp danh sách.\n",
    "'''"
   ]
  },
  {
   "cell_type": "code",
   "execution_count": 6,
   "id": "303fdd79-cd7d-40c8-b6e6-a865e64a57fd",
   "metadata": {},
   "outputs": [
    {
     "name": "stdin",
     "output_type": "stream",
     "text": [
      "Nhập một số (nhập 0 để dừng):  7\n",
      "Nhập một số (nhập 0 để dừng):  9\n",
      "Nhập một số (nhập 0 để dừng):  0\n"
     ]
    },
    {
     "name": "stdout",
     "output_type": "stream",
     "text": [
      "Các số đã nhập (theo thứ tự tăng dần):\n",
      "7\n",
      "9\n"
     ]
    }
   ],
   "source": [
    "danh_sach = []\n",
    "while True:\n",
    "    so = int(input(\"Nhập một số (nhập 0 để dừng): \"))\n",
    "    if so == 0:\n",
    "        break \n",
    "    danh_sach.append(so)\n",
    "\n",
    "danh_sach.sort()\n",
    "print(\"Các số đã nhập (theo thứ tự tăng dần):\")\n",
    "for so in danh_sach:\n",
    "    print(so)\n"
   ]
  },
  {
   "cell_type": "code",
   "execution_count": null,
   "id": "38945398-2bd3-407b-91de-f96873dd3dc6",
   "metadata": {},
   "outputs": [],
   "source": [
    "'''Bài 37: Tạo một chương trình đọc các từ của người dùng cho đến khi người dùng nhập vào một dòng trống. \n",
    "Sau khi người dùng nhập vào một dòng trống, chương trình sẽ hiển thị từng từ do người dùng nhập sau \n",
    "khi loại bỏ từ bị trùng. Các từ phải được hiển thị theo thứ tự mà chúng được nhập vào. \n",
    "'''"
   ]
  },
  {
   "cell_type": "code",
   "execution_count": 7,
   "id": "8c781f4a-6cc1-4943-bc67-2922a7c7be87",
   "metadata": {},
   "outputs": [
    {
     "name": "stdout",
     "output_type": "stream",
     "text": [
      "Nhập từng từ (nhấn Enter trên dòng trống để kết thúc):\n"
     ]
    },
    {
     "name": "stdin",
     "output_type": "stream",
     "text": [
      "Nhập từ:  Văn Nam\n",
      "Nhập từ:  \n"
     ]
    },
    {
     "name": "stdout",
     "output_type": "stream",
     "text": [
      "\n",
      "Các từ bạn đã nhập (không trùng lặp):\n",
      "Văn Nam\n"
     ]
    }
   ],
   "source": [
    "ds_tu = []\n",
    "print(\"Nhập từng từ (nhấn Enter trên dòng trống để kết thúc):\")\n",
    "\n",
    "while True:\n",
    "    tu = input(\"Nhập từ: \")\n",
    "    # Nếu người dùng chỉ nhấn Enter (dòng trống), thì dừng lại\n",
    "    if tu == \"\":\n",
    "        break\n",
    "    # Nếu từ chưa có trong danh sách thì thêm vào\n",
    "    if tu not in ds_tu:\n",
    "        ds_tu.append(tu)\n",
    "print(\"\\nCác từ bạn đã nhập (không trùng lặp):\")\n",
    "for tu in ds_tu:\n",
    "    print(tu)\n"
   ]
  },
  {
   "cell_type": "code",
   "execution_count": null,
   "id": "12814f61-9f9a-47e5-88da-3c0f99eb6363",
   "metadata": {},
   "outputs": [],
   "source": [
    "'''Bài 38: Tạo một chương trình đọc số nguyên từ người dùng cho đến khi một dòng trống được nhập.\n",
    "Khi tất cả các số nguyên đã được đọc, chương trình sẽ hiển thị theo quy tắt: tất cả các số âm, theo sau là tất cả các số không, theo sau là tất cả các số dương. Trong mỗi nhóm, các số phải được hiển thị theo cùng thứ tự mà người dùng đã nhập. \n",
    "Ví dụ: nếu người dùng nhập các giá trị: 3, -4, 1, 0, -1, 0 và -2 \n",
    "Thì chương trình sẽ xuất các giá trị: -4, -1, -2, 0, 0, 3 và 1.\n",
    "'''"
   ]
  },
  {
   "cell_type": "code",
   "execution_count": 9,
   "id": "d18b0ec2-506f-4194-95d5-a74bb5da762f",
   "metadata": {},
   "outputs": [
    {
     "name": "stdout",
     "output_type": "stream",
     "text": [
      "Nhập các số nguyên (nhấn Enter trên dòng trống để kết thúc):\n"
     ]
    },
    {
     "name": "stdin",
     "output_type": "stream",
     "text": [
      "Nhập số:  3\n",
      "Nhập số:  -1\n",
      "Nhập số:  4\n",
      "Nhập số:  0\n",
      "Nhập số:  -1\n",
      "Nhập số:  0\n",
      "Nhập số:  -2\n",
      "Nhập số:  \n"
     ]
    },
    {
     "name": "stdout",
     "output_type": "stream",
     "text": [
      "\n",
      "Các số sau khi sắp xếp theo quy tắc:\n",
      "-1\n",
      "-1\n",
      "-2\n",
      "0\n",
      "0\n",
      "3\n",
      "4\n"
     ]
    }
   ],
   "source": [
    "so_am = []\n",
    "so_0 = []\n",
    "so_duong = []\n",
    "print(\"Nhập các số nguyên (nhấn Enter trên dòng trống để kết thúc):\")\n",
    "while True:\n",
    "    nhap = input(\"Nhập số: \")\n",
    "    # Nếu người dùng nhập dòng trống thì dừng lại\n",
    "    if nhap == \"\":\n",
    "        break\n",
    "    so = int(nhap)\n",
    "    if so < 0:\n",
    "        so_am.append(so)\n",
    "    elif so == 0:\n",
    "        so_0.append(so)\n",
    "    else:\n",
    "        so_duong.append(so)\n",
    "ket_qua = so_am + so_0 + so_duong\n",
    "print(\"\\nCác số sau khi sắp xếp theo quy tắc:\")\n",
    "for so in ket_qua:\n",
    "    print(so)\n"
   ]
  },
  {
   "cell_type": "code",
   "execution_count": null,
   "id": "1144cfcb-4e3c-41f9-9da8-5d4f23471533",
   "metadata": {},
   "outputs": [],
   "source": [
    "'''Bài 39: Với số nguyên n nhất định, hãy viết chương trình tạo ra một dictionary chứa (i, i*i) với \n",
    "i là số nguyên từ 1 đến n (bao gồm cả 1 và n) sau đó in ra dictionary này. \n",
    "Ví dụ: Giả sử số n là 8 thì đầu ra sẽ là: {1: 1, 2: 4, 3: 9, 4: 16, 5: 25, 6: 36, 7: 49, 8: 64}.\n",
    "'''"
   ]
  },
  {
   "cell_type": "code",
   "execution_count": 10,
   "id": "fa476a33-4f2e-412d-babd-48d8796dd92a",
   "metadata": {},
   "outputs": [
    {
     "name": "stdin",
     "output_type": "stream",
     "text": [
      "Nhập một số nguyên n:  6\n"
     ]
    },
    {
     "name": "stdout",
     "output_type": "stream",
     "text": [
      "Kết quả dictionary là:\n",
      "{1: 1, 2: 4, 3: 9, 4: 16, 5: 25, 6: 36}\n"
     ]
    }
   ],
   "source": [
    "n = int(input(\"Nhập một số nguyên n: \"))\n",
    "# Tạo dictionary rỗng để lưu kết quả\n",
    "ket_qua = {}\n",
    "for i in range(1, n + 1):\n",
    "    ket_qua[i] = i * i  \n",
    "print(\"Kết quả dictionary là:\")\n",
    "print(ket_qua)\n"
   ]
  },
  {
   "cell_type": "code",
   "execution_count": null,
   "id": "4877e4c4-8651-4705-84ed-baf00e239c5d",
   "metadata": {},
   "outputs": [],
   "source": [
    "'''Bài 40: Với tuple (1,2,3,4,5,6,7,8,9,10) cho trước, \n",
    "viết một chương trình in một nửa phần tử đầu tiên trong 1 dòng \n",
    "và 1 nửa phần tử còn lại trong 1 dòng\n",
    "'''"
   ]
  },
  {
   "cell_type": "code",
   "execution_count": 11,
   "id": "3e6aa74e-44b7-4326-9ed4-7c7304a34a80",
   "metadata": {},
   "outputs": [
    {
     "name": "stdout",
     "output_type": "stream",
     "text": [
      "Nửa đầu của tuple là: (1, 2, 3, 4, 5)\n",
      "Nửa sau của tuple là: (6, 7, 8, 9, 10)\n"
     ]
    }
   ],
   "source": [
    "tup = (1,2,3,4,5,6,7,8,9,10)\n",
    "do_dai = len(tup)\n",
    "# Tính vị trí giữa\n",
    "giua = do_dai // 2\n",
    "# In nửa đầu và nửa sau\n",
    "print(\"Nửa đầu của tuple là:\", tup[:giua])\n",
    "print(\"Nửa sau của tuple là:\", tup[giua:])\n"
   ]
  },
  {
   "cell_type": "code",
   "execution_count": null,
   "id": "4434df7a-aa92-4c1f-b62f-0c8cf1db532c",
   "metadata": {},
   "outputs": [],
   "source": [
    "'''Bài 41: Viết một chương trình để tạo tuple chứa các phần tử là số chẵn từ một tuple (1,2,3,4,5,6,7,8,9,10) \n",
    "cho trước. \n",
    "'''"
   ]
  },
  {
   "cell_type": "code",
   "execution_count": 12,
   "id": "af891133-6e8e-4c9e-8e57-3be6e65f1b9a",
   "metadata": {},
   "outputs": [
    {
     "name": "stdout",
     "output_type": "stream",
     "text": [
      "Tuple chỉ chứa các số chẵn là: (2, 4, 6, 8, 10)\n"
     ]
    }
   ],
   "source": [
    "tup = (1,2,3,4,5,6,7,8,9,10)\n",
    "# Tạo tuple mới chỉ chứa số chẵn\n",
    "so_chan = tuple(i for i in tup if i % 2 == 0)\n",
    "print(\"Tuple chỉ chứa các số chẵn là:\", so_chan)\n"
   ]
  },
  {
   "cell_type": "code",
   "execution_count": null,
   "id": "eaee9046-508b-41fe-866c-73d5064cee4d",
   "metadata": {},
   "outputs": [],
   "source": [
    "'''Bài 42: Viết một chương trình có thể tính giai thừa của một số cho trước. \n",
    "Kết quả được in thành chuỗi trên một dòng, phân tách bởi dấu phẩy. \n",
    "Ví dụ, số cho trước là 8 thì kết quả đầu ra phải là 40320. Yêu cầu: định nghĩa hàm tính giai thừa\n",
    "'''"
   ]
  },
  {
   "cell_type": "code",
   "execution_count": 13,
   "id": "4e69a347-4e00-438a-969c-30869501e01b",
   "metadata": {},
   "outputs": [
    {
     "name": "stdin",
     "output_type": "stream",
     "text": [
      "Nhập một số để tính giai thừa:  2\n"
     ]
    },
    {
     "name": "stdout",
     "output_type": "stream",
     "text": [
      "Kết quả giai thừa là: 2\n"
     ]
    }
   ],
   "source": [
    "def tinh_giai_thua(n):\n",
    "    ket_qua = 1\n",
    "    for i in range(1, n + 1):\n",
    "        ket_qua = ket_qua * i\n",
    "    return ket_qua\n",
    "n = int(input(\"Nhập một số để tính giai thừa: \"))\n",
    "print(\"Kết quả giai thừa là:\", tinh_giai_thua(n))\n"
   ]
  },
  {
   "cell_type": "code",
   "execution_count": null,
   "id": "23569fa9-8f47-4f62-b19c-eab79cd9827b",
   "metadata": {},
   "outputs": [],
   "source": [
    "'''Bài 43: Định nghĩa một hàm có đầu vào là 2 chuỗi và in chuỗi có độ dài lớn hơn.\n",
    "Nếu 2 chuỗi có chiều dài như nhau thì in tất cả các chuỗi theo dòng. \n",
    "Sử dụng hàm len() để lấy chiều dài của một chuỗi.\n",
    "'''"
   ]
  },
  {
   "cell_type": "code",
   "execution_count": 14,
   "id": "d258eb7b-45c8-4d91-8d30-41972d432e51",
   "metadata": {},
   "outputs": [
    {
     "name": "stdin",
     "output_type": "stream",
     "text": [
      "Nhập chuỗi thứ nhất:  adg\n",
      "Nhập chuỗi thứ hai:  hfd\n"
     ]
    },
    {
     "name": "stdout",
     "output_type": "stream",
     "text": [
      "Hai chuỗi có độ dài bằng nhau:\n",
      "adg\n",
      "hfd\n"
     ]
    }
   ],
   "source": [
    "def so_sanh_chuoi(str1, str2):\n",
    "    if len(str1) > len(str2):\n",
    "        print(\"Chuỗi dài hơn là:\", str1)\n",
    "    elif len(str2) > len(str1):\n",
    "        print(\"Chuỗi dài hơn là:\", str2)\n",
    "    else:\n",
    "        print(\"Hai chuỗi có độ dài bằng nhau:\")\n",
    "        print(str1)\n",
    "        print(str2)\n",
    "chuoi1 = input(\"Nhập chuỗi thứ nhất: \")\n",
    "chuoi2 = input(\"Nhập chuỗi thứ hai: \")\n",
    "so_sanh_chuoi(chuoi1, chuoi2)\n"
   ]
  },
  {
   "cell_type": "code",
   "execution_count": null,
   "id": "36462312-6067-4db4-a7f0-307f60e9f25d",
   "metadata": {},
   "outputs": [],
   "source": [
    "'''Bài 44: Định nghĩa một hàm có thể tạo và in danh sách chứa các giá trị \n",
    "bình phương của các số từ 1 đến 20 (tính cả 1 và 20). Yêu cầu:\n",
    "Sử dụng toán tử ** để lấy giá trị bình phương; Sử dụng range() cho vòng lặp; Sử dụng list.append()\n",
    "để thêm giá trị vào danh sách.\n",
    "'''"
   ]
  },
  {
   "cell_type": "code",
   "execution_count": 15,
   "id": "74c9c118-463d-49a1-8a92-050542d8bb89",
   "metadata": {},
   "outputs": [
    {
     "name": "stdout",
     "output_type": "stream",
     "text": [
      "[1, 4, 9, 16, 25, 36, 49, 64, 81, 100, 121, 144, 169, 196, 225, 256, 289, 324, 361, 400]\n"
     ]
    }
   ],
   "source": [
    "def tao_danh_sach_binh_phuong():\n",
    "    ds = []  \n",
    "    for i in range(1, 21):  \n",
    "        ds.append(i ** 2)  \n",
    "    print(ds)\n",
    "tao_danh_sach_binh_phuong()\n"
   ]
  },
  {
   "cell_type": "code",
   "execution_count": null,
   "id": "2e253e8e-fea1-469c-8bc2-d59347562125",
   "metadata": {},
   "outputs": [],
   "source": [
    "'''Bài 45: Định nghĩa một hàm có thể tạo danh sách chứa các giá trị bình phương của các số từ 1 đến 20\n",
    "(bao gồm cả 1 và 20) và in 5 phần tử đầu tiên trong danh sách. \n",
    "Yêu cầu: Sử dụng toán tử ** để lấy giá trị bình phương; \n",
    "Sử dụng range() cho vòng lặp; Sử dụng list.append() để thêm phần tử vào danh sách; \n",
    "Sử dụng [n1:n2] để cắt danh sách.\n",
    "'''"
   ]
  },
  {
   "cell_type": "code",
   "execution_count": 16,
   "id": "6c0906f7-29d4-493d-a100-d883554df797",
   "metadata": {},
   "outputs": [
    {
     "name": "stdout",
     "output_type": "stream",
     "text": [
      "[1, 4, 9, 16, 25]\n"
     ]
    }
   ],
   "source": [
    "def in_5_binh_phuong_dau():\n",
    "    ds = []\n",
    "    for i in range(1, 21):\n",
    "        ds.append(i ** 2)\n",
    "    print(ds[:5])\n",
    "in_5_binh_phuong_dau()\n"
   ]
  },
  {
   "cell_type": "code",
   "execution_count": null,
   "id": "7fb1c8b8-f89c-4244-8809-2f153eab8f1c",
   "metadata": {},
   "outputs": [],
   "source": [
    "'''Bài 46: Định nghĩa một hàm có thể tạo ra một danh sách chứa các giá trị bình phương của các số từ 1 đến 20 \n",
    "(bao gồm cả 1 và 20), rồi in 5 phần tử cuối cùng trong danh sách. \n",
    "'''"
   ]
  },
  {
   "cell_type": "code",
   "execution_count": 17,
   "id": "e6faca66-78a6-44b1-b261-fe52a09f4b29",
   "metadata": {},
   "outputs": [
    {
     "name": "stdout",
     "output_type": "stream",
     "text": [
      "[256, 289, 324, 361, 400]\n"
     ]
    }
   ],
   "source": [
    "def in_5_binh_phuong_cuoi():\n",
    "    ds = []\n",
    "    for i in range(1, 21):\n",
    "        ds.append(i ** 2)\n",
    "    print(ds[-5:])\n",
    "in_5_binh_phuong_cuoi()\n"
   ]
  },
  {
   "cell_type": "code",
   "execution_count": null,
   "id": "27098830-5a1c-4760-bb49-87acd0622f36",
   "metadata": {},
   "outputs": [],
   "source": [
    "'''Bài 47: Định nghĩa một hàm có thể tạo danh sách chứa giá trị bình phương của các số từ 1 đến 20 \n",
    "(bao gồm cả 1 và 20). Sau đó in tất cả các giá trị của danh sách trừ 5 phần tử đầu tiên. \n",
    "'''"
   ]
  },
  {
   "cell_type": "code",
   "execution_count": 18,
   "id": "d453fd9f-378c-4780-9b40-1a69375f3852",
   "metadata": {},
   "outputs": [
    {
     "name": "stdout",
     "output_type": "stream",
     "text": [
      "[36, 49, 64, 81, 100, 121, 144, 169, 196, 225, 256, 289, 324, 361, 400]\n"
     ]
    }
   ],
   "source": [
    "def in_tru_5_dau():\n",
    "    ds = []\n",
    "    for i in range(1, 21):\n",
    "        ds.append(i ** 2)\n",
    "    print(ds[5:])\n",
    "in_tru_5_dau()\n"
   ]
  },
  {
   "cell_type": "code",
   "execution_count": null,
   "id": "e57e5069-bd13-4db0-9092-2493c4224d6d",
   "metadata": {},
   "outputs": [],
   "source": [
    "'''Bài 48: Viết hàm có 03 tham số và trả về giá trị trung bình của các tham số đó.\n",
    "Bao gồm một chương trình chính đọc ba giá trị từ người dùng và hiển thị giá trị trung bình của chúng.\n",
    "'''"
   ]
  },
  {
   "cell_type": "code",
   "execution_count": 19,
   "id": "1c2a2048-a731-441f-bc32-78be28b07557",
   "metadata": {},
   "outputs": [
    {
     "name": "stdin",
     "output_type": "stream",
     "text": [
      "Nhập số thứ nhất:  4\n",
      "Nhập số thứ hai:  7\n",
      "Nhập số thứ ba:  8\n"
     ]
    },
    {
     "name": "stdout",
     "output_type": "stream",
     "text": [
      "Giá trị trung bình là: 6.333333333333333\n"
     ]
    }
   ],
   "source": [
    "def tinh_trung_binh(a, b, c):\n",
    "    return (a + b + c) / 3\n",
    "x = float(input(\"Nhập số thứ nhất: \"))\n",
    "y = float(input(\"Nhập số thứ hai: \"))\n",
    "z = float(input(\"Nhập số thứ ba: \"))\n",
    "tb = tinh_trung_binh(x, y, z)\n",
    "print(\"Giá trị trung bình là:\", tb)\n"
   ]
  },
  {
   "cell_type": "code",
   "execution_count": null,
   "id": "2855ac82-8f29-4dca-82f3-f488b8175331",
   "metadata": {},
   "outputs": [],
   "source": [
    "'''Bài 49: Số nguyên tố là một số nguyên lớn hơn 1 và chỉ chia hết cho 1 và chính nó. \n",
    "Viết hàm xác định tham số của nó có phải là số nguyên tố hay không, trả về \n",
    "True nếu đúng và False nếu không phải. \n",
    "Viết chương trình chính đọc số nguyên từ người dùng và hiển thị thông báo cho biết đó có \n",
    "phải là số nguyên tố hay không.\n",
    "'''"
   ]
  },
  {
   "cell_type": "code",
   "execution_count": 20,
   "id": "15e163a6-cdf8-4416-9581-087fbb9963d4",
   "metadata": {},
   "outputs": [
    {
     "name": "stdin",
     "output_type": "stream",
     "text": [
      "Nhập một số nguyên:  2\n"
     ]
    },
    {
     "name": "stdout",
     "output_type": "stream",
     "text": [
      "2 là số nguyên tố.\n"
     ]
    }
   ],
   "source": [
    "def la_so_nguyen_to(n):\n",
    "    if n <= 1:\n",
    "        return False\n",
    "    for i in range(2, int(n ** 0.5) + 1):\n",
    "        if n % i == 0:\n",
    "            return False\n",
    "    return True\n",
    "so = int(input(\"Nhập một số nguyên: \"))\n",
    "\n",
    "if la_so_nguyen_to(so):\n",
    "    print(so, \"là số nguyên tố.\")\n",
    "else:\n",
    "    print(so, \"không phải là số nguyên tố.\")\n"
   ]
  },
  {
   "cell_type": "code",
   "execution_count": null,
   "id": "3ea60119-a970-4093-9dc9-de0e1c80a802",
   "metadata": {},
   "outputs": [],
   "source": [
    "'''Bài 50: Viết hàm không có tham số để tạo mật khẩu ngẫu nhiên. \n",
    "Mật khẩu phải có độ dài ngẫu nhiên từ 7 đến 10 ký tự.\n",
    "Mỗi ký tự phải được chọn ngẫu nhiên từ các vị trí 33 đến 126 trong bảng ASCII. \n",
    "Hàm sẽ trả về mật khẩu được tạo ngẫu nhiên. Hiển thị mật khẩu được tạo ngẫu nhiên trong chương trình chính.\n",
    "'''"
   ]
  },
  {
   "cell_type": "code",
   "execution_count": 21,
   "id": "8f2e379a-417d-451d-ab69-f814bd6c1f95",
   "metadata": {},
   "outputs": [
    {
     "name": "stdout",
     "output_type": "stream",
     "text": [
      "Mật khẩu ngẫu nhiên của bạn là: WKNA#ugB\n"
     ]
    }
   ],
   "source": [
    "import random\n",
    "def tao_mat_khau():\n",
    "    do_dai = random.randint(7, 10)  # độ dài ngẫu nhiên từ 7 đến 10\n",
    "    mat_khau = \"\"\n",
    "    for i in range(do_dai):\n",
    "        ky_tu = chr(random.randint(33, 126))  # chọn ký tự ngẫu nhiên từ bảng ASCII\n",
    "        mat_khau += ky_tu\n",
    "    return mat_khau\n",
    "mk = tao_mat_khau()\n",
    "print(\"Mật khẩu ngẫu nhiên của bạn là:\", mk)\n"
   ]
  },
  {
   "cell_type": "code",
   "execution_count": null,
   "id": "f2dcde08-855d-420c-936d-a7d104111572",
   "metadata": {},
   "outputs": [],
   "source": [
    "'''Bài 51: Viết một hàm có một tham số password để xác định xem mật khẩu có tốt hay không. \n",
    "Một mật khẩu tốt là một mật khẩu dài ít nhất 8 ký tự và chứa ít nhất một chữ cái viết hoa,\n",
    "ít nhất một chữ cái viết thường và ít nhất một số. Hàm sẽ trả về True nếu mật khẩu là tốt, \n",
    "ngược thì nó sẽ trả về Fales. Chương trình có một chương trình chính đọc mật khẩu từ người \n",
    "dùng và hiển thị xem nó có tốt hay không.\n",
    "'''"
   ]
  },
  {
   "cell_type": "code",
   "execution_count": 22,
   "id": "cfdb5797-a5fd-4128-9984-4e34f3c1afcf",
   "metadata": {},
   "outputs": [
    {
     "name": "stdin",
     "output_type": "stream",
     "text": [
      "Nhập mật khẩu cần kiểm tra:  VAhdhhd567\n"
     ]
    },
    {
     "name": "stdout",
     "output_type": "stream",
     "text": [
      "Mật khẩu tốt!\n"
     ]
    }
   ],
   "source": [
    "def la_mat_khau_tot(password):\n",
    "    if len(password) < 8:\n",
    "        return False\n",
    "    co_chu_hoa = False\n",
    "    co_chu_thuong = False\n",
    "    co_so = False\n",
    "    for ky_tu in password:\n",
    "        if ky_tu.isupper():   # kiểm tra chữ hoa\n",
    "            co_chu_hoa = True\n",
    "        elif ky_tu.islower(): # kiểm tra chữ thường\n",
    "            co_chu_thuong = True\n",
    "        elif ky_tu.isdigit(): # kiểm tra số\n",
    "            co_so = True\n",
    "    # Mật khẩu tốt nếu có đủ cả 3 loại ký tự\n",
    "    return co_chu_hoa and co_chu_thuong and co_so\n",
    "mat_khau = input(\"Nhập mật khẩu cần kiểm tra: \")\n",
    "\n",
    "if la_mat_khau_tot(mat_khau):\n",
    "    print(\"Mật khẩu tốt!\")\n",
    "else:\n",
    "    print(\"Mật khẩu chưa tốt. Hãy thêm chữ hoa, chữ thường và số (ít nhất 8 ký tự).\")\n"
   ]
  },
  {
   "cell_type": "code",
   "execution_count": null,
   "id": "6fcc5ab0-70be-4ad9-824f-86e85fee816f",
   "metadata": {},
   "outputs": [],
   "source": [
    "'''Bài 52: Một số nguyên, n, được cho là hoàn hảo khi tổng của tất cả các ước số của n bằng n.\n",
    "Ví dụ, 28 là một số hoàn hảo vì các ước số của nó là 1, 2, 4, 7 và 14.\n",
    "Tổng 1 + 2 + 4 + 7 + 14 = 28. Viết hàm xác định xem số nguyên dương có hoàn hảo hay không. \n",
    "Yêu cầu: Hàm chứa một tham số, nếu tham số đó là một số hoàn hảo thì hàm sẽ trả về True.\n",
    "Nếu không nó sẽ trả về False. Ngoài ra, hãy viết một chương trình chính sử dụng hàm này để xác \n",
    "định và hiển thị tất cả các số hoàn hảo trong khoảng từ 1 đến 10.000\n",
    "'''"
   ]
  },
  {
   "cell_type": "code",
   "execution_count": 23,
   "id": "cb892379-0bb1-46f8-9d67-d59f856497c6",
   "metadata": {},
   "outputs": [
    {
     "name": "stdout",
     "output_type": "stream",
     "text": [
      "Các số hoàn hảo từ 1 đến 10.000 là:\n",
      "6\n",
      "28\n",
      "496\n",
      "8128\n"
     ]
    }
   ],
   "source": [
    "def la_so_hoan_hao(n):\n",
    "    if n <= 0:\n",
    "        return False\n",
    "    tong = 0\n",
    "    for i in range(1, n):\n",
    "        if n % i == 0:\n",
    "            tong += i\n",
    "    return tong == n\n",
    "print(\"Các số hoàn hảo từ 1 đến 10.000 là:\")\n",
    "for so in range(1, 10001):\n",
    "    if la_so_hoan_hao(so):\n",
    "        print(so)\n"
   ]
  },
  {
   "cell_type": "code",
   "execution_count": null,
   "id": "470cc100-b2fe-4021-9b80-845ec1159e2f",
   "metadata": {},
   "outputs": [],
   "source": [
    "'''Bài 53: Viết một hàm trả về một danh sách chứa mọi danh sách con có thể có của danh sách.\n",
    "Ví dụ: danh sách con của [1, 2, 3] là [], [1], [2], [3], [1, 2], [2, 3] và [1, 2, 3].\n",
    "'''"
   ]
  },
  {
   "cell_type": "code",
   "execution_count": 24,
   "id": "dfbfb20c-b3de-4d1f-b21b-667819116a42",
   "metadata": {},
   "outputs": [
    {
     "name": "stdout",
     "output_type": "stream",
     "text": [
      "Các danh sách con của [1, 2, 3] là:\n",
      "[[], [1], [1, 2], [1, 2, 3], [2], [2, 3], [3]]\n"
     ]
    }
   ],
   "source": [
    "def danh_sach_con(ds):\n",
    "    ket_qua = [[]]  \n",
    "    for i in range(len(ds)):\n",
    "        for j in range(i + 1, len(ds) + 1):\n",
    "            ket_qua.append(ds[i:j])\n",
    "    return ket_qua\n",
    "ds = [1, 2, 3]\n",
    "print(\"Các danh sách con của\", ds, \"là:\")\n",
    "print(danh_sach_con(ds))\n"
   ]
  },
  {
   "cell_type": "code",
   "execution_count": null,
   "id": "b7ccbfa2-1808-4965-b94d-af67c9dd8da6",
   "metadata": {},
   "outputs": [],
   "source": [
    "'''Bài 54: Khi viết ra một danh sách các từ bằng tiếng Anh, người ta thường phân tách các từ bằng dấu phẩy. Ngoài ra, thêm từ “and” trước từ cuối cùng, trừ khi danh sách chỉ chứa một từ. Hãy xem xét bốn danh sách sau đây:\n",
    "\tapples \n",
    "\tapples and oranges \n",
    "\tapples, oranges and bananas \n",
    "\tapples, oranges, bananas and lemons\n",
    "Viết hàm lấy danh sách các chuỗi làm tham số của nó.\n",
    "Hàm sẽ trả về một chuỗi chứa tất cả các từ trong danh sách, được định dạng theo cách được mô tả như trên. \n",
    "Hàm hoạt động cho danh sách có độ dài bất kỳ.\n",
    "Code bao gồm một chương trình chính đọc một số từ do người dùng nhập vào,\n",
    "định dạng chúng bằng cách gọi hàm và sau đó hiển thị kết quả mà hàm trả về\n",
    "'''"
   ]
  },
  {
   "cell_type": "code",
   "execution_count": 25,
   "id": "3af5ae1a-9b56-4a7e-8de3-931780c2ce81",
   "metadata": {},
   "outputs": [
    {
     "name": "stdout",
     "output_type": "stream",
     "text": [
      "Nhập các từ (nhấn Enter dòng trống để kết thúc):\n"
     ]
    },
    {
     "name": "stdin",
     "output_type": "stream",
     "text": [
      "Nhập từ:  apples\n",
      "Nhập từ:  apples\n",
      "Nhập từ:  \n"
     ]
    },
    {
     "name": "stdout",
     "output_type": "stream",
     "text": [
      "\n",
      "Kết quả:\n",
      "apples and apples\n"
     ]
    }
   ],
   "source": [
    "def noi_tu(danh_sach_tu):\n",
    "    if len(danh_sach_tu) == 0:\n",
    "        return \"\"\n",
    "    elif len(danh_sach_tu) == 1:\n",
    "        return danh_sach_tu[0]\n",
    "    else:\n",
    "        return \", \".join(danh_sach_tu[:-1]) + \" and \" + danh_sach_tu[-1]\n",
    "tu_nhap = []\n",
    "print(\"Nhập các từ (nhấn Enter dòng trống để kết thúc):\")\n",
    "while True:\n",
    "    tu = input(\"Nhập từ: \")\n",
    "    if tu == \"\":\n",
    "        break\n",
    "    tu_nhap.append(tu)\n",
    "\n",
    "ket_qua = noi_tu(tu_nhap)\n",
    "print(\"\\nKết quả:\")\n",
    "print(ket_qua)\n"
   ]
  },
  {
   "cell_type": "code",
   "execution_count": null,
   "id": "6cb1069a-7810-4a64-8047-1b65b8666fbe",
   "metadata": {},
   "outputs": [],
   "source": [
    "'''Bài 55. Tệp nén là một loại lưu trữ chứa một hoặc nhiều tệp đã bị giảm kích thước. \n",
    "Nén tập tin trong các hệ điều hành hiện đại thường khá đơn giản. Viết chương trình nén và giải nén tệp bằng Python\n",
    "'''"
   ]
  },
  {
   "cell_type": "code",
   "execution_count": null,
   "id": "ed31105b-3587-422e-84eb-6eb42fcab790",
   "metadata": {},
   "outputs": [],
   "source": [
    "import zipfile\n",
    "# Hàm nén tệp\n",
    "def nen_tep(ten_tep, ten_zip):\n",
    "    with zipfile.ZipFile(ten_zip, 'w') as zipf:\n",
    "        zipf.write(ten_tep)\n",
    "    print(\" Đã nén tệp\", ten_tep, \"thành\", ten_zip)\n",
    "# Hàm giải nén tệp\n",
    "def giai_nen_tep(ten_zip, thu_muc_dich):\n",
    "    with zipfile.ZipFile(ten_zip, 'r') as zipf:\n",
    "        zipf.extractall(thu_muc_dich)\n",
    "    print(\"Đã giải nén\", ten_zip, \"vào thư mục\", thu_muc_dich)\n",
    "\n",
    "nen_tep('vidu.txt', 'vidu.zip')\n",
    "giai_nen_tep('vidu.zip', './giai_nen')\n"
   ]
  }
 ],
 "metadata": {
  "kernelspec": {
   "display_name": "Python [conda env:base] *",
   "language": "python",
   "name": "conda-base-py"
  },
  "language_info": {
   "codemirror_mode": {
    "name": "ipython",
    "version": 3
   },
   "file_extension": ".py",
   "mimetype": "text/x-python",
   "name": "python",
   "nbconvert_exporter": "python",
   "pygments_lexer": "ipython3",
   "version": "3.13.5"
  }
 },
 "nbformat": 4,
 "nbformat_minor": 5
}
